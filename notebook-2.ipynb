{
 "cells": [
  {
   "cell_type": "code",
   "execution_count": 1,
   "id": "888a6c99",
   "metadata": {
    "_cell_guid": "b1076dfc-b9ad-4769-8c92-a6c4dae69d19",
    "_uuid": "8f2839f25d086af736a60e9eeb907d3b93b6e0e5",
    "execution": {
     "iopub.execute_input": "2024-03-24T13:47:09.194327Z",
     "iopub.status.busy": "2024-03-24T13:47:09.193658Z",
     "iopub.status.idle": "2024-03-24T13:47:10.190496Z",
     "shell.execute_reply": "2024-03-24T13:47:10.189155Z"
    },
    "papermill": {
     "duration": 1.019415,
     "end_time": "2024-03-24T13:47:10.193782",
     "exception": false,
     "start_time": "2024-03-24T13:47:09.174367",
     "status": "completed"
    },
    "tags": []
   },
   "outputs": [
    {
     "name": "stdout",
     "output_type": "stream",
     "text": [
      "/kaggle/input/ml-olympiad-sustainable-urban-living/sample_submission.csv\n",
      "/kaggle/input/ml-olympiad-sustainable-urban-living/train.csv\n",
      "/kaggle/input/ml-olympiad-sustainable-urban-living/test.csv\n"
     ]
    }
   ],
   "source": [
    "# This Python 3 environment comes with many helpful analytics libraries installed\n",
    "# It is defined by the kaggle/python Docker image: https://github.com/kaggle/docker-python\n",
    "# For example, here's several helpful packages to load\n",
    "\n",
    "import numpy as np # linear algebra\n",
    "import pandas as pd # data processing, CSV file I/O (e.g. pd.read_csv)\n",
    "\n",
    "# Input data files are available in the read-only \"../input/\" directory\n",
    "# For example, running this (by clicking run or pressing Shift+Enter) will list all files under the input directory\n",
    "\n",
    "import os\n",
    "for dirname, _, filenames in os.walk('/kaggle/input'):\n",
    "    for filename in filenames:\n",
    "        print(os.path.join(dirname, filename))\n",
    "\n",
    "# You can write up to 20GB to the current directory (/kaggle/working/) that gets preserved as output when you create a version using \"Save & Run All\" \n",
    "# You can also write temporary files to /kaggle/temp/, but they won't be saved outside of the current session"
   ]
  },
  {
   "cell_type": "code",
   "execution_count": 2,
   "id": "9345cddd",
   "metadata": {
    "execution": {
     "iopub.execute_input": "2024-03-24T13:47:10.231892Z",
     "iopub.status.busy": "2024-03-24T13:47:10.231375Z",
     "iopub.status.idle": "2024-03-24T13:47:10.456786Z",
     "shell.execute_reply": "2024-03-24T13:47:10.455928Z"
    },
    "papermill": {
     "duration": 0.247453,
     "end_time": "2024-03-24T13:47:10.459007",
     "exception": false,
     "start_time": "2024-03-24T13:47:10.211554",
     "status": "completed"
    },
    "tags": []
   },
   "outputs": [
    {
     "data": {
      "text/html": [
       "<div>\n",
       "<style scoped>\n",
       "    .dataframe tbody tr th:only-of-type {\n",
       "        vertical-align: middle;\n",
       "    }\n",
       "\n",
       "    .dataframe tbody tr th {\n",
       "        vertical-align: top;\n",
       "    }\n",
       "\n",
       "    .dataframe thead th {\n",
       "        text-align: right;\n",
       "    }\n",
       "</style>\n",
       "<table border=\"1\" class=\"dataframe\">\n",
       "  <thead>\n",
       "    <tr style=\"text-align: right;\">\n",
       "      <th></th>\n",
       "      <th>Property_Type</th>\n",
       "      <th>Property_Area</th>\n",
       "      <th>Number_of_Windows</th>\n",
       "      <th>Number_of_Doors</th>\n",
       "      <th>Furnishing</th>\n",
       "      <th>Frequency_of_Powercuts</th>\n",
       "      <th>Power_Backup</th>\n",
       "      <th>Water_Supply</th>\n",
       "      <th>Traffic_Density_Score</th>\n",
       "      <th>Crime_Rate</th>\n",
       "      <th>Dust_and_Noise</th>\n",
       "      <th>Air_Quality_Index</th>\n",
       "      <th>Neighborhood_Review</th>\n",
       "    </tr>\n",
       "    <tr>\n",
       "      <th>Id</th>\n",
       "      <th></th>\n",
       "      <th></th>\n",
       "      <th></th>\n",
       "      <th></th>\n",
       "      <th></th>\n",
       "      <th></th>\n",
       "      <th></th>\n",
       "      <th></th>\n",
       "      <th></th>\n",
       "      <th></th>\n",
       "      <th></th>\n",
       "      <th></th>\n",
       "      <th></th>\n",
       "    </tr>\n",
       "  </thead>\n",
       "  <tbody>\n",
       "    <tr>\n",
       "      <th>0x21e3</th>\n",
       "      <td>Apartment</td>\n",
       "      <td>106</td>\n",
       "      <td>NaN</td>\n",
       "      <td>1</td>\n",
       "      <td>Semi_Furnished</td>\n",
       "      <td>0.0</td>\n",
       "      <td>No</td>\n",
       "      <td>Once in a day - Morning</td>\n",
       "      <td>5.89</td>\n",
       "      <td>Slightly below average</td>\n",
       "      <td>Medium</td>\n",
       "      <td>90.0</td>\n",
       "      <td>3.86</td>\n",
       "    </tr>\n",
       "    <tr>\n",
       "      <th>0x68d4</th>\n",
       "      <td>Apartment</td>\n",
       "      <td>733</td>\n",
       "      <td>2.0</td>\n",
       "      <td>2</td>\n",
       "      <td>Unfurnished</td>\n",
       "      <td>1.0</td>\n",
       "      <td>No</td>\n",
       "      <td>Once in a day - Evening</td>\n",
       "      <td>4.37</td>\n",
       "      <td>Well below average</td>\n",
       "      <td>Medium</td>\n",
       "      <td>96.0</td>\n",
       "      <td>3.55</td>\n",
       "    </tr>\n",
       "    <tr>\n",
       "      <th>0x7d81</th>\n",
       "      <td>Apartment</td>\n",
       "      <td>737</td>\n",
       "      <td>4.0</td>\n",
       "      <td>2</td>\n",
       "      <td>Fully Furnished</td>\n",
       "      <td>0.0</td>\n",
       "      <td>No</td>\n",
       "      <td>Once in a day - Morning</td>\n",
       "      <td>7.45</td>\n",
       "      <td>Slightly below average</td>\n",
       "      <td>Medium</td>\n",
       "      <td>121.0</td>\n",
       "      <td>3.81</td>\n",
       "    </tr>\n",
       "    <tr>\n",
       "      <th>0x7a57</th>\n",
       "      <td>Apartment</td>\n",
       "      <td>900</td>\n",
       "      <td>3.0</td>\n",
       "      <td>2</td>\n",
       "      <td>Unfurnished</td>\n",
       "      <td>2.0</td>\n",
       "      <td>Yes</td>\n",
       "      <td>Once in a day - Morning</td>\n",
       "      <td>6.16</td>\n",
       "      <td>Well above average</td>\n",
       "      <td>Medium</td>\n",
       "      <td>100.0</td>\n",
       "      <td>1.34</td>\n",
       "    </tr>\n",
       "    <tr>\n",
       "      <th>0x9409</th>\n",
       "      <td>Bungalow</td>\n",
       "      <td>2238</td>\n",
       "      <td>14.0</td>\n",
       "      <td>6</td>\n",
       "      <td>Fully Furnished</td>\n",
       "      <td>0.0</td>\n",
       "      <td>No</td>\n",
       "      <td>All time</td>\n",
       "      <td>5.46</td>\n",
       "      <td>Well below average</td>\n",
       "      <td>Medium</td>\n",
       "      <td>116.0</td>\n",
       "      <td>4.77</td>\n",
       "    </tr>\n",
       "  </tbody>\n",
       "</table>\n",
       "</div>"
      ],
      "text/plain": [
       "       Property_Type  Property_Area  Number_of_Windows  Number_of_Doors  \\\n",
       "Id                                                                        \n",
       "0x21e3     Apartment            106                NaN                1   \n",
       "0x68d4     Apartment            733                2.0                2   \n",
       "0x7d81     Apartment            737                4.0                2   \n",
       "0x7a57     Apartment            900                3.0                2   \n",
       "0x9409      Bungalow           2238               14.0                6   \n",
       "\n",
       "             Furnishing  Frequency_of_Powercuts Power_Backup  \\\n",
       "Id                                                             \n",
       "0x21e3   Semi_Furnished                     0.0           No   \n",
       "0x68d4      Unfurnished                     1.0           No   \n",
       "0x7d81  Fully Furnished                     0.0           No   \n",
       "0x7a57      Unfurnished                     2.0          Yes   \n",
       "0x9409  Fully Furnished                     0.0           No   \n",
       "\n",
       "                   Water_Supply  Traffic_Density_Score  \\\n",
       "Id                                                       \n",
       "0x21e3  Once in a day - Morning                   5.89   \n",
       "0x68d4  Once in a day - Evening                   4.37   \n",
       "0x7d81  Once in a day - Morning                   7.45   \n",
       "0x7a57  Once in a day - Morning                   6.16   \n",
       "0x9409                 All time                   5.46   \n",
       "\n",
       "                    Crime_Rate Dust_and_Noise  Air_Quality_Index  \\\n",
       "Id                                                                 \n",
       "0x21e3  Slightly below average         Medium               90.0   \n",
       "0x68d4      Well below average         Medium               96.0   \n",
       "0x7d81  Slightly below average         Medium              121.0   \n",
       "0x7a57      Well above average         Medium              100.0   \n",
       "0x9409      Well below average         Medium              116.0   \n",
       "\n",
       "        Neighborhood_Review  \n",
       "Id                           \n",
       "0x21e3                 3.86  \n",
       "0x68d4                 3.55  \n",
       "0x7d81                 3.81  \n",
       "0x7a57                 1.34  \n",
       "0x9409                 4.77  "
      ]
     },
     "execution_count": 2,
     "metadata": {},
     "output_type": "execute_result"
    }
   ],
   "source": [
    "X_full = pd.read_csv('/kaggle/input/ml-olympiad-sustainable-urban-living/train.csv', index_col='Id')\n",
    "#X_train.head()\n",
    "X_full.dropna(axis=0, subset=['Habitability_score'], inplace=True)\n",
    "\n",
    "y_full = X_full.Habitability_score\n",
    "X_full.drop(['Habitability_score'], axis = 1,inplace= True )\n",
    "X_full.head()"
   ]
  },
  {
   "cell_type": "code",
   "execution_count": 3,
   "id": "0edb46d8",
   "metadata": {
    "execution": {
     "iopub.execute_input": "2024-03-24T13:47:10.498166Z",
     "iopub.status.busy": "2024-03-24T13:47:10.497378Z",
     "iopub.status.idle": "2024-03-24T13:47:10.544758Z",
     "shell.execute_reply": "2024-03-24T13:47:10.543670Z"
    },
    "papermill": {
     "duration": 0.070842,
     "end_time": "2024-03-24T13:47:10.547863",
     "exception": false,
     "start_time": "2024-03-24T13:47:10.477021",
     "status": "completed"
    },
    "tags": []
   },
   "outputs": [
    {
     "data": {
      "text/html": [
       "<div>\n",
       "<style scoped>\n",
       "    .dataframe tbody tr th:only-of-type {\n",
       "        vertical-align: middle;\n",
       "    }\n",
       "\n",
       "    .dataframe tbody tr th {\n",
       "        vertical-align: top;\n",
       "    }\n",
       "\n",
       "    .dataframe thead th {\n",
       "        text-align: right;\n",
       "    }\n",
       "</style>\n",
       "<table border=\"1\" class=\"dataframe\">\n",
       "  <thead>\n",
       "    <tr style=\"text-align: right;\">\n",
       "      <th></th>\n",
       "      <th>Property_Area</th>\n",
       "      <th>Number_of_Windows</th>\n",
       "      <th>Number_of_Doors</th>\n",
       "      <th>Frequency_of_Powercuts</th>\n",
       "      <th>Traffic_Density_Score</th>\n",
       "      <th>Air_Quality_Index</th>\n",
       "      <th>Neighborhood_Review</th>\n",
       "    </tr>\n",
       "  </thead>\n",
       "  <tbody>\n",
       "    <tr>\n",
       "      <th>count</th>\n",
       "      <td>31599.000000</td>\n",
       "      <td>30266.000000</td>\n",
       "      <td>31599.000000</td>\n",
       "      <td>30490.000000</td>\n",
       "      <td>31599.000000</td>\n",
       "      <td>31599.000000</td>\n",
       "      <td>31599.000000</td>\n",
       "    </tr>\n",
       "    <tr>\n",
       "      <th>mean</th>\n",
       "      <td>1392.563784</td>\n",
       "      <td>3.926254</td>\n",
       "      <td>2.333745</td>\n",
       "      <td>0.486684</td>\n",
       "      <td>6.356843</td>\n",
       "      <td>121.378588</td>\n",
       "      <td>3.733128</td>\n",
       "    </tr>\n",
       "    <tr>\n",
       "      <th>std</th>\n",
       "      <td>1950.693832</td>\n",
       "      <td>2.694485</td>\n",
       "      <td>1.178326</td>\n",
       "      <td>0.755209</td>\n",
       "      <td>1.219395</td>\n",
       "      <td>62.071787</td>\n",
       "      <td>0.798300</td>\n",
       "    </tr>\n",
       "    <tr>\n",
       "      <th>min</th>\n",
       "      <td>100.000000</td>\n",
       "      <td>0.000000</td>\n",
       "      <td>1.000000</td>\n",
       "      <td>0.000000</td>\n",
       "      <td>0.000000</td>\n",
       "      <td>0.000000</td>\n",
       "      <td>0.240000</td>\n",
       "    </tr>\n",
       "    <tr>\n",
       "      <th>25%</th>\n",
       "      <td>495.000000</td>\n",
       "      <td>2.000000</td>\n",
       "      <td>1.000000</td>\n",
       "      <td>0.000000</td>\n",
       "      <td>5.610000</td>\n",
       "      <td>95.000000</td>\n",
       "      <td>3.220000</td>\n",
       "    </tr>\n",
       "    <tr>\n",
       "      <th>50%</th>\n",
       "      <td>932.000000</td>\n",
       "      <td>4.000000</td>\n",
       "      <td>2.000000</td>\n",
       "      <td>0.000000</td>\n",
       "      <td>6.470000</td>\n",
       "      <td>113.000000</td>\n",
       "      <td>3.850000</td>\n",
       "    </tr>\n",
       "    <tr>\n",
       "      <th>75%</th>\n",
       "      <td>1767.000000</td>\n",
       "      <td>5.000000</td>\n",
       "      <td>3.000000</td>\n",
       "      <td>1.000000</td>\n",
       "      <td>7.220000</td>\n",
       "      <td>140.000000</td>\n",
       "      <td>4.240000</td>\n",
       "    </tr>\n",
       "    <tr>\n",
       "      <th>max</th>\n",
       "      <td>28064.000000</td>\n",
       "      <td>15.000000</td>\n",
       "      <td>6.000000</td>\n",
       "      <td>3.000000</td>\n",
       "      <td>9.910000</td>\n",
       "      <td>1044.000000</td>\n",
       "      <td>5.000000</td>\n",
       "    </tr>\n",
       "  </tbody>\n",
       "</table>\n",
       "</div>"
      ],
      "text/plain": [
       "       Property_Area  Number_of_Windows  Number_of_Doors  \\\n",
       "count   31599.000000       30266.000000     31599.000000   \n",
       "mean     1392.563784           3.926254         2.333745   \n",
       "std      1950.693832           2.694485         1.178326   \n",
       "min       100.000000           0.000000         1.000000   \n",
       "25%       495.000000           2.000000         1.000000   \n",
       "50%       932.000000           4.000000         2.000000   \n",
       "75%      1767.000000           5.000000         3.000000   \n",
       "max     28064.000000          15.000000         6.000000   \n",
       "\n",
       "       Frequency_of_Powercuts  Traffic_Density_Score  Air_Quality_Index  \\\n",
       "count            30490.000000           31599.000000       31599.000000   \n",
       "mean                 0.486684               6.356843         121.378588   \n",
       "std                  0.755209               1.219395          62.071787   \n",
       "min                  0.000000               0.000000           0.000000   \n",
       "25%                  0.000000               5.610000          95.000000   \n",
       "50%                  0.000000               6.470000         113.000000   \n",
       "75%                  1.000000               7.220000         140.000000   \n",
       "max                  3.000000               9.910000        1044.000000   \n",
       "\n",
       "       Neighborhood_Review  \n",
       "count         31599.000000  \n",
       "mean              3.733128  \n",
       "std               0.798300  \n",
       "min               0.240000  \n",
       "25%               3.220000  \n",
       "50%               3.850000  \n",
       "75%               4.240000  \n",
       "max               5.000000  "
      ]
     },
     "execution_count": 3,
     "metadata": {},
     "output_type": "execute_result"
    }
   ],
   "source": [
    "X_full.describe()"
   ]
  },
  {
   "cell_type": "code",
   "execution_count": 4,
   "id": "e9be37f9",
   "metadata": {
    "execution": {
     "iopub.execute_input": "2024-03-24T13:47:10.586356Z",
     "iopub.status.busy": "2024-03-24T13:47:10.585942Z",
     "iopub.status.idle": "2024-03-24T13:47:12.047842Z",
     "shell.execute_reply": "2024-03-24T13:47:12.046818Z"
    },
    "papermill": {
     "duration": 1.483737,
     "end_time": "2024-03-24T13:47:12.050488",
     "exception": false,
     "start_time": "2024-03-24T13:47:10.566751",
     "status": "completed"
    },
    "tags": []
   },
   "outputs": [],
   "source": [
    "from sklearn.model_selection import train_test_split\n",
    "X_train, X_valid, y_train, y_valid = train_test_split(X_full, y_full, train_size=0.8, test_size=0.2,\n",
    "                                                      random_state=42)"
   ]
  },
  {
   "cell_type": "code",
   "execution_count": 5,
   "id": "a2d93215",
   "metadata": {
    "execution": {
     "iopub.execute_input": "2024-03-24T13:47:12.088462Z",
     "iopub.status.busy": "2024-03-24T13:47:12.087414Z",
     "iopub.status.idle": "2024-03-24T13:47:12.095400Z",
     "shell.execute_reply": "2024-03-24T13:47:12.094190Z"
    },
    "papermill": {
     "duration": 0.029532,
     "end_time": "2024-03-24T13:47:12.097775",
     "exception": false,
     "start_time": "2024-03-24T13:47:12.068243",
     "status": "completed"
    },
    "tags": []
   },
   "outputs": [
    {
     "data": {
      "text/plain": [
       "(25279, 13)"
      ]
     },
     "execution_count": 5,
     "metadata": {},
     "output_type": "execute_result"
    }
   ],
   "source": [
    "X_train.shape"
   ]
  },
  {
   "cell_type": "code",
   "execution_count": 6,
   "id": "0e487340",
   "metadata": {
    "execution": {
     "iopub.execute_input": "2024-03-24T13:47:12.135903Z",
     "iopub.status.busy": "2024-03-24T13:47:12.135489Z",
     "iopub.status.idle": "2024-03-24T13:47:12.199221Z",
     "shell.execute_reply": "2024-03-24T13:47:12.197897Z"
    },
    "papermill": {
     "duration": 0.085919,
     "end_time": "2024-03-24T13:47:12.201874",
     "exception": false,
     "start_time": "2024-03-24T13:47:12.115955",
     "status": "completed"
    },
    "tags": []
   },
   "outputs": [
    {
     "data": {
      "text/html": [
       "<div>\n",
       "<style scoped>\n",
       "    .dataframe tbody tr th:only-of-type {\n",
       "        vertical-align: middle;\n",
       "    }\n",
       "\n",
       "    .dataframe tbody tr th {\n",
       "        vertical-align: top;\n",
       "    }\n",
       "\n",
       "    .dataframe thead th {\n",
       "        text-align: right;\n",
       "    }\n",
       "</style>\n",
       "<table border=\"1\" class=\"dataframe\">\n",
       "  <thead>\n",
       "    <tr style=\"text-align: right;\">\n",
       "      <th></th>\n",
       "      <th>Property_Type</th>\n",
       "      <th>Property_Area</th>\n",
       "      <th>Number_of_Windows</th>\n",
       "      <th>Number_of_Doors</th>\n",
       "      <th>Furnishing</th>\n",
       "      <th>Frequency_of_Powercuts</th>\n",
       "      <th>Power_Backup</th>\n",
       "      <th>Water_Supply</th>\n",
       "      <th>Traffic_Density_Score</th>\n",
       "      <th>Crime_Rate</th>\n",
       "      <th>Dust_and_Noise</th>\n",
       "      <th>Air_Quality_Index</th>\n",
       "      <th>Neighborhood_Review</th>\n",
       "    </tr>\n",
       "    <tr>\n",
       "      <th>Id</th>\n",
       "      <th></th>\n",
       "      <th></th>\n",
       "      <th></th>\n",
       "      <th></th>\n",
       "      <th></th>\n",
       "      <th></th>\n",
       "      <th></th>\n",
       "      <th></th>\n",
       "      <th></th>\n",
       "      <th></th>\n",
       "      <th></th>\n",
       "      <th></th>\n",
       "      <th></th>\n",
       "    </tr>\n",
       "  </thead>\n",
       "  <tbody>\n",
       "    <tr>\n",
       "      <th>0x6808</th>\n",
       "      <td>Single-family home</td>\n",
       "      <td>1521</td>\n",
       "      <td>5.0</td>\n",
       "      <td>1</td>\n",
       "      <td>Unfurnished</td>\n",
       "      <td>0.0</td>\n",
       "      <td>No</td>\n",
       "      <td>All time</td>\n",
       "      <td>7.61</td>\n",
       "      <td>Well below average</td>\n",
       "      <td>Medium</td>\n",
       "      <td>156.0</td>\n",
       "      <td>4.71</td>\n",
       "    </tr>\n",
       "    <tr>\n",
       "      <th>0x6a98</th>\n",
       "      <td>Single-family home</td>\n",
       "      <td>2233</td>\n",
       "      <td>2.0</td>\n",
       "      <td>1</td>\n",
       "      <td>Semi_Furnished</td>\n",
       "      <td>0.0</td>\n",
       "      <td>No</td>\n",
       "      <td>Once in a day - Morning</td>\n",
       "      <td>5.28</td>\n",
       "      <td>Well below average</td>\n",
       "      <td>Medium</td>\n",
       "      <td>82.0</td>\n",
       "      <td>4.50</td>\n",
       "    </tr>\n",
       "    <tr>\n",
       "      <th>0xacc0</th>\n",
       "      <td>Apartment</td>\n",
       "      <td>986</td>\n",
       "      <td>1.0</td>\n",
       "      <td>1</td>\n",
       "      <td>Unfurnished</td>\n",
       "      <td>0.0</td>\n",
       "      <td>No</td>\n",
       "      <td>All time</td>\n",
       "      <td>7.72</td>\n",
       "      <td>Well below average</td>\n",
       "      <td>Medium</td>\n",
       "      <td>91.0</td>\n",
       "      <td>4.79</td>\n",
       "    </tr>\n",
       "    <tr>\n",
       "      <th>0x8225</th>\n",
       "      <td>Single-family home</td>\n",
       "      <td>1625</td>\n",
       "      <td>2.0</td>\n",
       "      <td>1</td>\n",
       "      <td>Semi_Furnished</td>\n",
       "      <td>0.0</td>\n",
       "      <td>No</td>\n",
       "      <td>Once in a day - Evening</td>\n",
       "      <td>6.19</td>\n",
       "      <td>Well below average</td>\n",
       "      <td>Medium</td>\n",
       "      <td>159.0</td>\n",
       "      <td>4.09</td>\n",
       "    </tr>\n",
       "    <tr>\n",
       "      <th>0xaee8</th>\n",
       "      <td>Single-family home</td>\n",
       "      <td>1166</td>\n",
       "      <td>2.0</td>\n",
       "      <td>2</td>\n",
       "      <td>Fully Furnished</td>\n",
       "      <td>0.0</td>\n",
       "      <td>No</td>\n",
       "      <td>Once in a day - Evening</td>\n",
       "      <td>5.84</td>\n",
       "      <td>Slightly below average</td>\n",
       "      <td>Medium</td>\n",
       "      <td>82.0</td>\n",
       "      <td>3.56</td>\n",
       "    </tr>\n",
       "  </tbody>\n",
       "</table>\n",
       "</div>"
      ],
      "text/plain": [
       "             Property_Type  Property_Area  Number_of_Windows  Number_of_Doors  \\\n",
       "Id                                                                              \n",
       "0x6808  Single-family home           1521                5.0                1   \n",
       "0x6a98  Single-family home           2233                2.0                1   \n",
       "0xacc0           Apartment            986                1.0                1   \n",
       "0x8225  Single-family home           1625                2.0                1   \n",
       "0xaee8  Single-family home           1166                2.0                2   \n",
       "\n",
       "             Furnishing  Frequency_of_Powercuts Power_Backup  \\\n",
       "Id                                                             \n",
       "0x6808      Unfurnished                     0.0           No   \n",
       "0x6a98   Semi_Furnished                     0.0           No   \n",
       "0xacc0      Unfurnished                     0.0           No   \n",
       "0x8225   Semi_Furnished                     0.0           No   \n",
       "0xaee8  Fully Furnished                     0.0           No   \n",
       "\n",
       "                   Water_Supply  Traffic_Density_Score  \\\n",
       "Id                                                       \n",
       "0x6808                 All time                   7.61   \n",
       "0x6a98  Once in a day - Morning                   5.28   \n",
       "0xacc0                 All time                   7.72   \n",
       "0x8225  Once in a day - Evening                   6.19   \n",
       "0xaee8  Once in a day - Evening                   5.84   \n",
       "\n",
       "                    Crime_Rate Dust_and_Noise  Air_Quality_Index  \\\n",
       "Id                                                                 \n",
       "0x6808      Well below average         Medium              156.0   \n",
       "0x6a98      Well below average         Medium               82.0   \n",
       "0xacc0      Well below average         Medium               91.0   \n",
       "0x8225      Well below average         Medium              159.0   \n",
       "0xaee8  Slightly below average         Medium               82.0   \n",
       "\n",
       "        Neighborhood_Review  \n",
       "Id                           \n",
       "0x6808                 4.71  \n",
       "0x6a98                 4.50  \n",
       "0xacc0                 4.79  \n",
       "0x8225                 4.09  \n",
       "0xaee8                 3.56  "
      ]
     },
     "execution_count": 6,
     "metadata": {},
     "output_type": "execute_result"
    }
   ],
   "source": [
    "X_test = pd.read_csv('/kaggle/input/ml-olympiad-sustainable-urban-living/test.csv', index_col='Id')\n",
    "# X_train.head()\n",
    "\n",
    "X_test.head()"
   ]
  },
  {
   "cell_type": "code",
   "execution_count": 7,
   "id": "b4488dc0",
   "metadata": {
    "execution": {
     "iopub.execute_input": "2024-03-24T13:47:12.242701Z",
     "iopub.status.busy": "2024-03-24T13:47:12.242291Z",
     "iopub.status.idle": "2024-03-24T13:47:12.251073Z",
     "shell.execute_reply": "2024-03-24T13:47:12.250027Z"
    },
    "papermill": {
     "duration": 0.033001,
     "end_time": "2024-03-24T13:47:12.253523",
     "exception": false,
     "start_time": "2024-03-24T13:47:12.220522",
     "status": "completed"
    },
    "tags": []
   },
   "outputs": [
    {
     "data": {
      "text/plain": [
       "Property_Type              object\n",
       "Property_Area               int64\n",
       "Number_of_Windows         float64\n",
       "Number_of_Doors             int64\n",
       "Furnishing                 object\n",
       "Frequency_of_Powercuts    float64\n",
       "Power_Backup               object\n",
       "Water_Supply               object\n",
       "Traffic_Density_Score     float64\n",
       "Crime_Rate                 object\n",
       "Dust_and_Noise             object\n",
       "Air_Quality_Index         float64\n",
       "Neighborhood_Review       float64\n",
       "dtype: object"
      ]
     },
     "execution_count": 7,
     "metadata": {},
     "output_type": "execute_result"
    }
   ],
   "source": [
    "X_train.dtypes"
   ]
  },
  {
   "cell_type": "code",
   "execution_count": 8,
   "id": "a6646146",
   "metadata": {
    "execution": {
     "iopub.execute_input": "2024-03-24T13:47:12.293551Z",
     "iopub.status.busy": "2024-03-24T13:47:12.292963Z",
     "iopub.status.idle": "2024-03-24T13:47:12.319188Z",
     "shell.execute_reply": "2024-03-24T13:47:12.317956Z"
    },
    "papermill": {
     "duration": 0.048978,
     "end_time": "2024-03-24T13:47:12.321752",
     "exception": false,
     "start_time": "2024-03-24T13:47:12.272774",
     "status": "completed"
    },
    "tags": []
   },
   "outputs": [
    {
     "data": {
      "text/plain": [
       "['Number_of_Windows',\n",
       " 'Furnishing',\n",
       " 'Frequency_of_Powercuts',\n",
       " 'Crime_Rate',\n",
       " 'Dust_and_Noise']"
      ]
     },
     "execution_count": 8,
     "metadata": {},
     "output_type": "execute_result"
    }
   ],
   "source": [
    "missing_cols = X_train.columns[X_train.isnull().any()].tolist()\n",
    "missing_cols\n"
   ]
  },
  {
   "cell_type": "code",
   "execution_count": 9,
   "id": "0867e213",
   "metadata": {
    "execution": {
     "iopub.execute_input": "2024-03-24T13:47:12.361050Z",
     "iopub.status.busy": "2024-03-24T13:47:12.360664Z",
     "iopub.status.idle": "2024-03-24T13:47:12.551932Z",
     "shell.execute_reply": "2024-03-24T13:47:12.550508Z"
    },
    "papermill": {
     "duration": 0.214391,
     "end_time": "2024-03-24T13:47:12.554918",
     "exception": false,
     "start_time": "2024-03-24T13:47:12.340527",
     "status": "completed"
    },
    "tags": []
   },
   "outputs": [],
   "source": [
    "from sklearn.impute import SimpleImputer\n",
    "\n",
    "def imputing1(X_train,X_valid,X_test):\n",
    "#     imputation_strategies = {\n",
    "#         'Number_of_Windows': 'mean',           # Impute with mean for numeric columns\n",
    "#         'Furnishing': 'most_frequent',         # Impute with median for numeric columns\n",
    "#         'Frequency_of_Powercuts': 'most_frequent',  # Impute with most frequent for categorical columns\n",
    "#         'Crime_Rate': 'most_frequent',\n",
    "#         'Dust_and_Noise':'most_frequent',\n",
    "#         # Impute with a constant for categorical columns\n",
    "#     }\n",
    "    missing_cols = ['Number_of_Windows','Furnishing', 'Frequency_of_Powercuts','Crime_Rate','Dust_and_Noise']\n",
    "    numerical_cols = ['Number_of_Windows']\n",
    "    categorical_cols = ['Furnishing', 'Frequency_of_Powercuts','Crime_Rate','Dust_and_Noise']\n",
    "\n",
    "    numerical_imputer = SimpleImputer(strategy='mean')\n",
    "    X_train_numerical = X_train[numerical_cols].copy()\n",
    "    X_valid_numerical = X_valid[numerical_cols].copy()\n",
    "    X_test_numerical = X_test[numerical_cols].copy()\n",
    "    X_train_numerical = pd.DataFrame(numerical_imputer.fit_transform(X_train_numerical), columns = numerical_cols)\n",
    "    X_valid_numerical = pd.DataFrame(numerical_imputer.transform(X_valid_numerical),columns = numerical_cols)\n",
    "    X_test_numerical = pd.DataFrame(numerical_imputer.transform(X_test_numerical),columns = numerical_cols)\n",
    "\n",
    "    categorical_imputer = SimpleImputer(strategy='most_frequent')\n",
    "    X_train_categorical = X_train[categorical_cols].copy()\n",
    "    X_valid_categorical = X_valid[categorical_cols].copy()\n",
    "    X_test_categorical = X_test[categorical_cols].copy()\n",
    "    X_train_categorical = pd.DataFrame(categorical_imputer.fit_transform(X_train_categorical),columns = categorical_cols)\n",
    "    X_valid_categorical = pd.DataFrame(categorical_imputer.transform(X_valid_categorical),columns = categorical_cols)\n",
    "    X_test_categorical = pd.DataFrame(categorical_imputer.transform(X_test_categorical),columns = categorical_cols)\n",
    "    print(X_train_numerical.head())\n",
    "    print(X_train_categorical.head())\n",
    "\n",
    "    X_train_numerical.index = X_train.index\n",
    "    X_train_categorical.index = X_train.index\n",
    "    X_test_numerical.index = X_test.index\n",
    "    X_test_categorical.index = X_test.index\n",
    "    X_valid_numerical.index = X_valid.index\n",
    "    X_valid_categorical.index = X_valid.index\n",
    "\n",
    "\n",
    "    X_train.drop(columns = missing_cols,axis = 1, inplace =True)\n",
    "    X_test.drop(columns = missing_cols, axis = 1,inplace =True)\n",
    "    X_valid.drop(columns = missing_cols, axis = 1,inplace =True)\n",
    "\n",
    "    \n",
    "    X_train_imputed = pd.concat([X_train, X_train_numerical, X_train_categorical], axis=1)\n",
    "    X_test_imputed =  pd.concat([X_test, X_test_numerical, X_test_categorical], axis=1)\n",
    "    X_valid_imputed =  pd.concat([X_valid, X_valid_numerical, X_valid_categorical], axis=1)\n",
    "    return [X_train_imputed, X_valid_imputed, X_test_imputed]\n",
    "\n",
    "\n"
   ]
  },
  {
   "cell_type": "code",
   "execution_count": 10,
   "id": "3c1f6fb5",
   "metadata": {
    "execution": {
     "iopub.execute_input": "2024-03-24T13:47:12.594885Z",
     "iopub.status.busy": "2024-03-24T13:47:12.594453Z",
     "iopub.status.idle": "2024-03-24T13:47:12.602465Z",
     "shell.execute_reply": "2024-03-24T13:47:12.601210Z"
    },
    "papermill": {
     "duration": 0.031052,
     "end_time": "2024-03-24T13:47:12.604950",
     "exception": false,
     "start_time": "2024-03-24T13:47:12.573898",
     "status": "completed"
    },
    "tags": []
   },
   "outputs": [],
   "source": [
    "from sklearn.model_selection import cross_val_score\n",
    "from sklearn.impute import KNNImputer\n",
    "\n",
    "def KNNimputing(X_train,X_valid,X_test):\n",
    "    imputer = KNNImputer(n_neighbors=3)\n",
    "    X_train_imputed = imputer.fit_transform(X_train)\n",
    "    X_valid_imputed = imputer.transform(X_valid)\n",
    "    X_test_imputed = imputer.transform(X_test)\n",
    "    \n",
    "    X_train_imputed_df = pd.DataFrame(X_train_imputed, columns=X_train.columns, index = X_train.index)\n",
    "    X_valid_imputed_df = pd.DataFrame(X_valid_imputed, columns=X_valid.columns, index = X_valid.index)\n",
    "    X_test_imputed_df  = pd.DataFrame(X_test_imputed, columns=X_test.columns,index = X_test.index)\n",
    "    return [X_train_imputed_df, X_valid_imputed_df, X_test_imputed_df]\n",
    "    "
   ]
  },
  {
   "cell_type": "code",
   "execution_count": 11,
   "id": "f1483f91",
   "metadata": {
    "execution": {
     "iopub.execute_input": "2024-03-24T13:47:12.643959Z",
     "iopub.status.busy": "2024-03-24T13:47:12.643579Z",
     "iopub.status.idle": "2024-03-24T13:47:12.836102Z",
     "shell.execute_reply": "2024-03-24T13:47:12.834700Z"
    },
    "papermill": {
     "duration": 0.215386,
     "end_time": "2024-03-24T13:47:12.838888",
     "exception": false,
     "start_time": "2024-03-24T13:47:12.623502",
     "status": "completed"
    },
    "tags": []
   },
   "outputs": [
    {
     "name": "stdout",
     "output_type": "stream",
     "text": [
      "   Number_of_Windows\n",
      "0                2.0\n",
      "1                7.0\n",
      "2               10.0\n",
      "3                5.0\n",
      "4                5.0\n",
      "       Furnishing Frequency_of_Powercuts              Crime_Rate  \\\n",
      "0  Semi_Furnished                    2.0  Slightly above average   \n",
      "1  Semi_Furnished                    0.0      Well above average   \n",
      "2  Semi_Furnished                    2.0      Well below average   \n",
      "3  Semi_Furnished                    0.0      Well below average   \n",
      "4     Unfurnished                    0.0      Well below average   \n",
      "\n",
      "  Dust_and_Noise  \n",
      "0            Low  \n",
      "1         Medium  \n",
      "2         Medium  \n",
      "3         Medium  \n",
      "4         Medium  \n"
     ]
    },
    {
     "data": {
      "text/html": [
       "<div>\n",
       "<style scoped>\n",
       "    .dataframe tbody tr th:only-of-type {\n",
       "        vertical-align: middle;\n",
       "    }\n",
       "\n",
       "    .dataframe tbody tr th {\n",
       "        vertical-align: top;\n",
       "    }\n",
       "\n",
       "    .dataframe thead th {\n",
       "        text-align: right;\n",
       "    }\n",
       "</style>\n",
       "<table border=\"1\" class=\"dataframe\">\n",
       "  <thead>\n",
       "    <tr style=\"text-align: right;\">\n",
       "      <th></th>\n",
       "      <th>Property_Type</th>\n",
       "      <th>Property_Area</th>\n",
       "      <th>Number_of_Doors</th>\n",
       "      <th>Power_Backup</th>\n",
       "      <th>Water_Supply</th>\n",
       "      <th>Traffic_Density_Score</th>\n",
       "      <th>Air_Quality_Index</th>\n",
       "      <th>Neighborhood_Review</th>\n",
       "      <th>Number_of_Windows</th>\n",
       "      <th>Furnishing</th>\n",
       "      <th>Frequency_of_Powercuts</th>\n",
       "      <th>Crime_Rate</th>\n",
       "      <th>Dust_and_Noise</th>\n",
       "    </tr>\n",
       "    <tr>\n",
       "      <th>Id</th>\n",
       "      <th></th>\n",
       "      <th></th>\n",
       "      <th></th>\n",
       "      <th></th>\n",
       "      <th></th>\n",
       "      <th></th>\n",
       "      <th></th>\n",
       "      <th></th>\n",
       "      <th></th>\n",
       "      <th></th>\n",
       "      <th></th>\n",
       "      <th></th>\n",
       "      <th></th>\n",
       "    </tr>\n",
       "  </thead>\n",
       "  <tbody>\n",
       "    <tr>\n",
       "      <th>0x6808</th>\n",
       "      <td>Single-family home</td>\n",
       "      <td>1521</td>\n",
       "      <td>1</td>\n",
       "      <td>No</td>\n",
       "      <td>All time</td>\n",
       "      <td>7.61</td>\n",
       "      <td>156.0</td>\n",
       "      <td>4.71</td>\n",
       "      <td>5.0</td>\n",
       "      <td>Unfurnished</td>\n",
       "      <td>0.0</td>\n",
       "      <td>Well below average</td>\n",
       "      <td>Medium</td>\n",
       "    </tr>\n",
       "    <tr>\n",
       "      <th>0x6a98</th>\n",
       "      <td>Single-family home</td>\n",
       "      <td>2233</td>\n",
       "      <td>1</td>\n",
       "      <td>No</td>\n",
       "      <td>Once in a day - Morning</td>\n",
       "      <td>5.28</td>\n",
       "      <td>82.0</td>\n",
       "      <td>4.50</td>\n",
       "      <td>2.0</td>\n",
       "      <td>Semi_Furnished</td>\n",
       "      <td>0.0</td>\n",
       "      <td>Well below average</td>\n",
       "      <td>Medium</td>\n",
       "    </tr>\n",
       "    <tr>\n",
       "      <th>0xacc0</th>\n",
       "      <td>Apartment</td>\n",
       "      <td>986</td>\n",
       "      <td>1</td>\n",
       "      <td>No</td>\n",
       "      <td>All time</td>\n",
       "      <td>7.72</td>\n",
       "      <td>91.0</td>\n",
       "      <td>4.79</td>\n",
       "      <td>1.0</td>\n",
       "      <td>Unfurnished</td>\n",
       "      <td>0.0</td>\n",
       "      <td>Well below average</td>\n",
       "      <td>Medium</td>\n",
       "    </tr>\n",
       "    <tr>\n",
       "      <th>0x8225</th>\n",
       "      <td>Single-family home</td>\n",
       "      <td>1625</td>\n",
       "      <td>1</td>\n",
       "      <td>No</td>\n",
       "      <td>Once in a day - Evening</td>\n",
       "      <td>6.19</td>\n",
       "      <td>159.0</td>\n",
       "      <td>4.09</td>\n",
       "      <td>2.0</td>\n",
       "      <td>Semi_Furnished</td>\n",
       "      <td>0.0</td>\n",
       "      <td>Well below average</td>\n",
       "      <td>Medium</td>\n",
       "    </tr>\n",
       "    <tr>\n",
       "      <th>0xaee8</th>\n",
       "      <td>Single-family home</td>\n",
       "      <td>1166</td>\n",
       "      <td>2</td>\n",
       "      <td>No</td>\n",
       "      <td>Once in a day - Evening</td>\n",
       "      <td>5.84</td>\n",
       "      <td>82.0</td>\n",
       "      <td>3.56</td>\n",
       "      <td>2.0</td>\n",
       "      <td>Fully Furnished</td>\n",
       "      <td>0.0</td>\n",
       "      <td>Slightly below average</td>\n",
       "      <td>Medium</td>\n",
       "    </tr>\n",
       "  </tbody>\n",
       "</table>\n",
       "</div>"
      ],
      "text/plain": [
       "             Property_Type  Property_Area  Number_of_Doors Power_Backup  \\\n",
       "Id                                                                        \n",
       "0x6808  Single-family home           1521                1           No   \n",
       "0x6a98  Single-family home           2233                1           No   \n",
       "0xacc0           Apartment            986                1           No   \n",
       "0x8225  Single-family home           1625                1           No   \n",
       "0xaee8  Single-family home           1166                2           No   \n",
       "\n",
       "                   Water_Supply  Traffic_Density_Score  Air_Quality_Index  \\\n",
       "Id                                                                          \n",
       "0x6808                 All time                   7.61              156.0   \n",
       "0x6a98  Once in a day - Morning                   5.28               82.0   \n",
       "0xacc0                 All time                   7.72               91.0   \n",
       "0x8225  Once in a day - Evening                   6.19              159.0   \n",
       "0xaee8  Once in a day - Evening                   5.84               82.0   \n",
       "\n",
       "        Neighborhood_Review  Number_of_Windows       Furnishing  \\\n",
       "Id                                                                \n",
       "0x6808                 4.71                5.0      Unfurnished   \n",
       "0x6a98                 4.50                2.0   Semi_Furnished   \n",
       "0xacc0                 4.79                1.0      Unfurnished   \n",
       "0x8225                 4.09                2.0   Semi_Furnished   \n",
       "0xaee8                 3.56                2.0  Fully Furnished   \n",
       "\n",
       "       Frequency_of_Powercuts              Crime_Rate Dust_and_Noise  \n",
       "Id                                                                    \n",
       "0x6808                    0.0      Well below average         Medium  \n",
       "0x6a98                    0.0      Well below average         Medium  \n",
       "0xacc0                    0.0      Well below average         Medium  \n",
       "0x8225                    0.0      Well below average         Medium  \n",
       "0xaee8                    0.0  Slightly below average         Medium  "
      ]
     },
     "execution_count": 11,
     "metadata": {},
     "output_type": "execute_result"
    }
   ],
   "source": [
    "X_train_imputed, X_valid_imputed, X_test_imputed = imputing1(X_train,X_valid,X_test)\n",
    "    \n",
    "#     X_train[column]\n",
    "# For categorical columns\n",
    "\n",
    "X_test_imputed.head()"
   ]
  },
  {
   "cell_type": "code",
   "execution_count": 12,
   "id": "0820ed16",
   "metadata": {
    "execution": {
     "iopub.execute_input": "2024-03-24T13:47:12.878812Z",
     "iopub.status.busy": "2024-03-24T13:47:12.878383Z",
     "iopub.status.idle": "2024-03-24T13:47:12.899388Z",
     "shell.execute_reply": "2024-03-24T13:47:12.898156Z"
    },
    "papermill": {
     "duration": 0.044116,
     "end_time": "2024-03-24T13:47:12.901966",
     "exception": false,
     "start_time": "2024-03-24T13:47:12.857850",
     "status": "completed"
    },
    "tags": []
   },
   "outputs": [
    {
     "data": {
      "text/html": [
       "<div>\n",
       "<style scoped>\n",
       "    .dataframe tbody tr th:only-of-type {\n",
       "        vertical-align: middle;\n",
       "    }\n",
       "\n",
       "    .dataframe tbody tr th {\n",
       "        vertical-align: top;\n",
       "    }\n",
       "\n",
       "    .dataframe thead th {\n",
       "        text-align: right;\n",
       "    }\n",
       "</style>\n",
       "<table border=\"1\" class=\"dataframe\">\n",
       "  <thead>\n",
       "    <tr style=\"text-align: right;\">\n",
       "      <th></th>\n",
       "      <th>Property_Type</th>\n",
       "      <th>Property_Area</th>\n",
       "      <th>Number_of_Doors</th>\n",
       "      <th>Power_Backup</th>\n",
       "      <th>Water_Supply</th>\n",
       "      <th>Traffic_Density_Score</th>\n",
       "      <th>Air_Quality_Index</th>\n",
       "      <th>Neighborhood_Review</th>\n",
       "      <th>Number_of_Windows</th>\n",
       "      <th>Furnishing</th>\n",
       "      <th>Frequency_of_Powercuts</th>\n",
       "      <th>Crime_Rate</th>\n",
       "      <th>Dust_and_Noise</th>\n",
       "    </tr>\n",
       "    <tr>\n",
       "      <th>Id</th>\n",
       "      <th></th>\n",
       "      <th></th>\n",
       "      <th></th>\n",
       "      <th></th>\n",
       "      <th></th>\n",
       "      <th></th>\n",
       "      <th></th>\n",
       "      <th></th>\n",
       "      <th></th>\n",
       "      <th></th>\n",
       "      <th></th>\n",
       "      <th></th>\n",
       "      <th></th>\n",
       "    </tr>\n",
       "  </thead>\n",
       "  <tbody>\n",
       "    <tr>\n",
       "      <th>0x276f</th>\n",
       "      <td>Apartment</td>\n",
       "      <td>277</td>\n",
       "      <td>3</td>\n",
       "      <td>No</td>\n",
       "      <td>All time</td>\n",
       "      <td>7.16</td>\n",
       "      <td>125.0</td>\n",
       "      <td>3.50</td>\n",
       "      <td>1.0</td>\n",
       "      <td>Fully Furnished</td>\n",
       "      <td>2.0</td>\n",
       "      <td>Well below average</td>\n",
       "      <td>Medium</td>\n",
       "    </tr>\n",
       "    <tr>\n",
       "      <th>0x28c5</th>\n",
       "      <td>Container Home</td>\n",
       "      <td>253</td>\n",
       "      <td>2</td>\n",
       "      <td>Yes</td>\n",
       "      <td>All time</td>\n",
       "      <td>7.16</td>\n",
       "      <td>88.0</td>\n",
       "      <td>2.92</td>\n",
       "      <td>2.0</td>\n",
       "      <td>Unfurnished</td>\n",
       "      <td>3.0</td>\n",
       "      <td>Well below average</td>\n",
       "      <td>Medium</td>\n",
       "    </tr>\n",
       "    <tr>\n",
       "      <th>0x26f0</th>\n",
       "      <td>Apartment</td>\n",
       "      <td>450</td>\n",
       "      <td>1</td>\n",
       "      <td>No</td>\n",
       "      <td>Once in two days</td>\n",
       "      <td>8.42</td>\n",
       "      <td>169.0</td>\n",
       "      <td>2.43</td>\n",
       "      <td>1.0</td>\n",
       "      <td>Unfurnished</td>\n",
       "      <td>0.0</td>\n",
       "      <td>Slightly above average</td>\n",
       "      <td>High</td>\n",
       "    </tr>\n",
       "    <tr>\n",
       "      <th>0x97dd</th>\n",
       "      <td>Duplex</td>\n",
       "      <td>876</td>\n",
       "      <td>1</td>\n",
       "      <td>Yes</td>\n",
       "      <td>All time</td>\n",
       "      <td>7.66</td>\n",
       "      <td>151.0</td>\n",
       "      <td>4.72</td>\n",
       "      <td>6.0</td>\n",
       "      <td>Unfurnished</td>\n",
       "      <td>0.0</td>\n",
       "      <td>Well below average</td>\n",
       "      <td>Medium</td>\n",
       "    </tr>\n",
       "    <tr>\n",
       "      <th>0x5ac0</th>\n",
       "      <td>Apartment</td>\n",
       "      <td>235</td>\n",
       "      <td>3</td>\n",
       "      <td>No</td>\n",
       "      <td>Once in a day - Morning</td>\n",
       "      <td>7.18</td>\n",
       "      <td>169.0</td>\n",
       "      <td>3.75</td>\n",
       "      <td>1.0</td>\n",
       "      <td>Fully Furnished</td>\n",
       "      <td>0.0</td>\n",
       "      <td>Slightly below average</td>\n",
       "      <td>Medium</td>\n",
       "    </tr>\n",
       "  </tbody>\n",
       "</table>\n",
       "</div>"
      ],
      "text/plain": [
       "         Property_Type  Property_Area  Number_of_Doors Power_Backup  \\\n",
       "Id                                                                    \n",
       "0x276f       Apartment            277                3           No   \n",
       "0x28c5  Container Home            253                2          Yes   \n",
       "0x26f0       Apartment            450                1           No   \n",
       "0x97dd          Duplex            876                1          Yes   \n",
       "0x5ac0       Apartment            235                3           No   \n",
       "\n",
       "                   Water_Supply  Traffic_Density_Score  Air_Quality_Index  \\\n",
       "Id                                                                          \n",
       "0x276f                 All time                   7.16              125.0   \n",
       "0x28c5                 All time                   7.16               88.0   \n",
       "0x26f0         Once in two days                   8.42              169.0   \n",
       "0x97dd                 All time                   7.66              151.0   \n",
       "0x5ac0  Once in a day - Morning                   7.18              169.0   \n",
       "\n",
       "        Neighborhood_Review  Number_of_Windows       Furnishing  \\\n",
       "Id                                                                \n",
       "0x276f                 3.50                1.0  Fully Furnished   \n",
       "0x28c5                 2.92                2.0      Unfurnished   \n",
       "0x26f0                 2.43                1.0      Unfurnished   \n",
       "0x97dd                 4.72                6.0      Unfurnished   \n",
       "0x5ac0                 3.75                1.0  Fully Furnished   \n",
       "\n",
       "       Frequency_of_Powercuts              Crime_Rate Dust_and_Noise  \n",
       "Id                                                                    \n",
       "0x276f                    2.0      Well below average         Medium  \n",
       "0x28c5                    3.0      Well below average         Medium  \n",
       "0x26f0                    0.0  Slightly above average           High  \n",
       "0x97dd                    0.0      Well below average         Medium  \n",
       "0x5ac0                    0.0  Slightly below average         Medium  "
      ]
     },
     "execution_count": 12,
     "metadata": {},
     "output_type": "execute_result"
    }
   ],
   "source": [
    "X_valid_imputed.head()"
   ]
  },
  {
   "cell_type": "code",
   "execution_count": 13,
   "id": "91115ab7",
   "metadata": {
    "execution": {
     "iopub.execute_input": "2024-03-24T13:47:12.951712Z",
     "iopub.status.busy": "2024-03-24T13:47:12.951291Z",
     "iopub.status.idle": "2024-03-24T13:47:12.978190Z",
     "shell.execute_reply": "2024-03-24T13:47:12.976774Z"
    },
    "papermill": {
     "duration": 0.050939,
     "end_time": "2024-03-24T13:47:12.980885",
     "exception": false,
     "start_time": "2024-03-24T13:47:12.929946",
     "status": "completed"
    },
    "tags": []
   },
   "outputs": [
    {
     "name": "stdout",
     "output_type": "stream",
     "text": [
      "Series([], dtype: int64)\n"
     ]
    }
   ],
   "source": [
    "missing_val_count_by_column = (X_train_imputed.isnull().sum())\n",
    "print(missing_val_count_by_column[missing_val_count_by_column >0])"
   ]
  },
  {
   "cell_type": "code",
   "execution_count": 14,
   "id": "d3a3f2ea",
   "metadata": {
    "execution": {
     "iopub.execute_input": "2024-03-24T13:47:13.024008Z",
     "iopub.status.busy": "2024-03-24T13:47:13.023644Z",
     "iopub.status.idle": "2024-03-24T13:47:13.036768Z",
     "shell.execute_reply": "2024-03-24T13:47:13.035620Z"
    },
    "papermill": {
     "duration": 0.038241,
     "end_time": "2024-03-24T13:47:13.039454",
     "exception": false,
     "start_time": "2024-03-24T13:47:13.001213",
     "status": "completed"
    },
    "tags": []
   },
   "outputs": [
    {
     "name": "stdout",
     "output_type": "stream",
     "text": [
      "Series([], dtype: int64)\n"
     ]
    }
   ],
   "source": [
    "missing_val_count_by_column = (X_test_imputed.isnull().sum())\n",
    "print(missing_val_count_by_column[missing_val_count_by_column >0])"
   ]
  },
  {
   "cell_type": "code",
   "execution_count": 15,
   "id": "572b69ec",
   "metadata": {
    "execution": {
     "iopub.execute_input": "2024-03-24T13:47:13.081021Z",
     "iopub.status.busy": "2024-03-24T13:47:13.080135Z",
     "iopub.status.idle": "2024-03-24T13:47:13.140109Z",
     "shell.execute_reply": "2024-03-24T13:47:13.138844Z"
    },
    "papermill": {
     "duration": 0.08429,
     "end_time": "2024-03-24T13:47:13.143405",
     "exception": false,
     "start_time": "2024-03-24T13:47:13.059115",
     "status": "completed"
    },
    "tags": []
   },
   "outputs": [
    {
     "name": "stdout",
     "output_type": "stream",
     "text": [
      "Train_dataset\n",
      "\n",
      "Property_Type : True\n",
      "Property_Type : True\n",
      "\n",
      "\n",
      "Power_Backup : True\n",
      "Power_Backup : True\n",
      "\n",
      "\n",
      "Water_Supply : True\n",
      "Water_Supply : True\n",
      "\n",
      "\n",
      "Furnishing : True\n",
      "Furnishing : True\n",
      "\n",
      "\n",
      "Frequency_of_Powercuts : True\n",
      "Frequency_of_Powercuts : True\n",
      "\n",
      "\n",
      "Crime_Rate : True\n",
      "Crime_Rate : True\n",
      "\n",
      "\n",
      "Dust_and_Noise : True\n",
      "Dust_and_Noise : True\n",
      "\n",
      "\n"
     ]
    }
   ],
   "source": [
    "#Encodings \n",
    "object_cols = [cname for cname in X_train_imputed.columns if \n",
    "                    X_train_imputed[cname].dtype == 'object']\n",
    "print('Train_dataset\\n')\n",
    "for col in object_cols:\n",
    "    print(col, ':',set(X_train_imputed[col].unique()) == set(X_test_imputed[col].unique()))\n",
    "    print(col, ':',set(X_train_imputed[col].unique()) == set(X_valid_imputed[col].unique()))\n",
    "    print('\\n')\n",
    "\n",
    "    \n"
   ]
  },
  {
   "cell_type": "code",
   "execution_count": 16,
   "id": "d5172cb6",
   "metadata": {
    "execution": {
     "iopub.execute_input": "2024-03-24T13:47:13.184653Z",
     "iopub.status.busy": "2024-03-24T13:47:13.184259Z",
     "iopub.status.idle": "2024-03-24T13:47:13.208813Z",
     "shell.execute_reply": "2024-03-24T13:47:13.207256Z"
    },
    "papermill": {
     "duration": 0.048249,
     "end_time": "2024-03-24T13:47:13.211490",
     "exception": false,
     "start_time": "2024-03-24T13:47:13.163241",
     "status": "completed"
    },
    "tags": []
   },
   "outputs": [
    {
     "name": "stdout",
     "output_type": "stream",
     "text": [
      "Property_Type\n",
      "['Apartment' 'Duplex' 'Bungalow' 'Single-family home' 'Container Home'\n",
      " '#R%$G&867']\n",
      "Power_Backup\n",
      "['No' 'Yes' 'NOT MENTIONED']\n",
      "Water_Supply\n",
      "['All time' 'Once in a day - Morning' 'Once in a day - Evening'\n",
      " 'Once in two days' 'NOT MENTIONED']\n",
      "Furnishing\n",
      "['Semi_Furnished' 'Unfurnished' 'Fully Furnished']\n",
      "Frequency_of_Powercuts\n",
      "[2.0 0.0 1.0 3.0]\n",
      "Crime_Rate\n",
      "['Slightly above average' 'Well above average' 'Well below average'\n",
      " 'Slightly below average']\n",
      "Dust_and_Noise\n",
      "['Low' 'Medium' 'High']\n"
     ]
    }
   ],
   "source": [
    "for col in object_cols:\n",
    "    print(col)\n",
    "    print(X_train_imputed[col].unique())"
   ]
  },
  {
   "cell_type": "code",
   "execution_count": 17,
   "id": "21dc107a",
   "metadata": {
    "execution": {
     "iopub.execute_input": "2024-03-24T13:47:13.254808Z",
     "iopub.status.busy": "2024-03-24T13:47:13.254119Z",
     "iopub.status.idle": "2024-03-24T13:47:13.557185Z",
     "shell.execute_reply": "2024-03-24T13:47:13.555368Z"
    },
    "papermill": {
     "duration": 0.328206,
     "end_time": "2024-03-24T13:47:13.560070",
     "exception": false,
     "start_time": "2024-03-24T13:47:13.231864",
     "status": "completed"
    },
    "tags": []
   },
   "outputs": [
    {
     "name": "stderr",
     "output_type": "stream",
     "text": [
      "/opt/conda/lib/python3.10/site-packages/sklearn/preprocessing/_encoders.py:868: FutureWarning: `sparse` was renamed to `sparse_output` in version 1.2 and will be removed in 1.4. `sparse_output` is ignored unless you leave `sparse` to its default value.\n",
      "  warnings.warn(\n"
     ]
    }
   ],
   "source": [
    "from sklearn.pipeline import Pipeline\n",
    "from sklearn.compose import ColumnTransformer\n",
    "from sklearn.preprocessing import OrdinalEncoder, LabelEncoder, OneHotEncoder\n",
    "from sklearn.impute import SimpleImputer\n",
    "from sklearn.linear_model import LinearRegression\n",
    "from sklearn.linear_model import Ridge\n",
    "from xgboost import XGBRegressor\n",
    "from sklearn.svm import SVR\n",
    "from sklearn.metrics import mean_squared_error\n",
    "custom_encodings = {\n",
    "    'Furnishing':['Unfurnished' ,'Semi_Furnished' ,'Fully Furnished'],\n",
    "    'Frequency_of_Powercuts':[3.0,2.0,1.0,0.0],\n",
    "    'Crime_Rate':['Well above average','Slightly above average','Slightly below average', 'Well below average'],\n",
    "    'Dust_and_Noise':['Low', 'Medium','High']}\n",
    "#     'Water_Supply':['NOT MENTIONED','Once in two days', 'Once in a day - Evening','Once in a day - Morning','All time']\n",
    "\n",
    "label_encoding_cols = ['Property_Type','Water_Supply']\n",
    "one_hot_cols  = ['Power_Backup']\n",
    "\n",
    "ordinal_encoder = OrdinalEncoder(categories=[custom_encodings[col] for col in custom_encodings.keys()])\n",
    "label_encoder = LabelEncoder()\n",
    "onehot_encoder = OneHotEncoder(drop='first', sparse=False)\n",
    "label_encoder = LabelEncoder()\n",
    "\n",
    "for col in label_encoding_cols:\n",
    "    X_train_imputed[col] = label_encoder.fit_transform(X_train_imputed[col])\n",
    "    X_valid_imputed[col] = label_encoder.transform(X_valid_imputed[col])\n",
    "    X_test_imputed[col] = label_encoder.transform(X_test_imputed[col])\n",
    "onehot_encoder.fit(X_train_imputed[one_hot_cols])\n",
    "ordinal_encoder.fit(X_train_imputed[custom_encodings.keys()])\n",
    "\n",
    "def OnehotEncoding(df,columns):\n",
    "    encoded_data = onehot_encoder.transform(df[columns])\n",
    "    # Get feature names after one-hot encoding\n",
    "    feature_names = onehot_encoder.get_feature_names_out(columns)\n",
    "\n",
    "    # Create DataFrame with one-hot encoded features and original index\n",
    "    one_hot_encoded_df = pd.DataFrame(encoded_data, columns=feature_names, index=df.index)\n",
    "    return one_hot_encoded_df\n",
    "\n",
    "def OrdinalEncoding(df,columns):  \n",
    "    #         X_transformed  = df.copy()\n",
    "    X_encoded = pd.DataFrame(ordinal_encoder.transform(df[custom_encodings.keys()]),columns = custom_encodings.keys())\n",
    "    X_encoded.index = df.index\n",
    "    return  X_encoded \n",
    "def transform(train, valid, test, ordinal_cols, onehot_cols):\n",
    "    train_encoded1 = OnehotEncoding(train,onehot_cols)\n",
    "    valid_encoded1 = OnehotEncoding(valid,onehot_cols)\n",
    "    test_encoded1 = OnehotEncoding(test,onehot_cols)\n",
    "    \n",
    "    train.drop(columns = onehot_cols,axis = 1, inplace =True)\n",
    "    test.drop(columns = onehot_cols, axis = 1,inplace =True)\n",
    "    valid.drop(columns = onehot_cols, axis = 1,inplace =True)\n",
    "    \n",
    "    train_encoded2 = OrdinalEncoding(train,ordinal_cols)\n",
    "    valid_encoded2 = OrdinalEncoding(valid,ordinal_cols)\n",
    "    test_encoded2 = OrdinalEncoding(test,ordinal_cols)\n",
    "    \n",
    "    train.drop(columns = ordinal_cols,axis = 1, inplace =True)\n",
    "    test.drop(columns = ordinal_cols, axis = 1,inplace =True)\n",
    "    valid.drop(columns = ordinal_cols, axis = 1,inplace =True)\n",
    "    \n",
    "    train_encoded = pd.concat([train, train_encoded1, train_encoded2], axis=1)\n",
    "    valid_encoded = pd.concat([valid, valid_encoded1, valid_encoded2], axis=1)\n",
    "    test_encoded = pd.concat([test, test_encoded1, test_encoded2], axis=1)\n",
    "    \n",
    "    return [train_encoded, valid_encoded, test_encoded]\n",
    "\n",
    "def predict_and_evaluate(model, X_train, y_train, X_valid, y_valid):\n",
    "    model.fit(X_train, y_train)\n",
    "    y_pred = model.predict(X_valid)\n",
    "    rmse = np.sqrt(mean_squared_error(y_valid, y_pred))\n",
    "    print(f'Root Mean Squared Error (RMSE) on validation set: {rmse}')\n",
    "    #print(f'R-squared score on validation set: {score}')\n",
    "    \n",
    "    \n",
    "    \n",
    "\n",
    "# preprocessor = ColumnTransformer(\n",
    "#     transformers=[\n",
    "#         ('ordinal', ordinal_encoder, [col for col in custom_encodings.keys()]),\n",
    "# #         ('label', label_encoder, label_encoding_cols),\n",
    "#         ('one_hot', one_hot_encoder, one_hot_cols)\n",
    "#     ],\n",
    "#     remainder='passthrough'  # Pass through any columns not specified above\n",
    "# )\n",
    "# X_train_encoded1 = pd.DataFrame(ordinal_encoder.fit_transform(X_train_imputed[custom_encodings.keys()]),columns = custom_encodings.keys())\n",
    "# X_valid_encoded1= pd.DataFrame(ordinal_encoder.transform(X_valid_imputed[custom_encodings.keys()]),columns = custom_encodings.keys())\n",
    "# X_test_encoded1 = pd.DataFrame(ordinal_encoder.transform(X_test_imputed[custom_encodings.keys()]),columns = custom_encodings.keys())\n",
    "\n",
    "# X_train_encoded1.index = X_train_imputed\n"
   ]
  },
  {
   "cell_type": "code",
   "execution_count": 18,
   "id": "7c31223b",
   "metadata": {
    "execution": {
     "iopub.execute_input": "2024-03-24T13:47:13.603688Z",
     "iopub.status.busy": "2024-03-24T13:47:13.603298Z",
     "iopub.status.idle": "2024-03-24T13:47:13.738805Z",
     "shell.execute_reply": "2024-03-24T13:47:13.737696Z"
    },
    "papermill": {
     "duration": 0.16043,
     "end_time": "2024-03-24T13:47:13.741523",
     "exception": false,
     "start_time": "2024-03-24T13:47:13.581093",
     "status": "completed"
    },
    "tags": []
   },
   "outputs": [
    {
     "name": "stdout",
     "output_type": "stream",
     "text": [
      "(25279, 14)\n"
     ]
    },
    {
     "data": {
      "text/html": [
       "<div>\n",
       "<style scoped>\n",
       "    .dataframe tbody tr th:only-of-type {\n",
       "        vertical-align: middle;\n",
       "    }\n",
       "\n",
       "    .dataframe tbody tr th {\n",
       "        vertical-align: top;\n",
       "    }\n",
       "\n",
       "    .dataframe thead th {\n",
       "        text-align: right;\n",
       "    }\n",
       "</style>\n",
       "<table border=\"1\" class=\"dataframe\">\n",
       "  <thead>\n",
       "    <tr style=\"text-align: right;\">\n",
       "      <th></th>\n",
       "      <th>Property_Type</th>\n",
       "      <th>Property_Area</th>\n",
       "      <th>Number_of_Doors</th>\n",
       "      <th>Water_Supply</th>\n",
       "      <th>Traffic_Density_Score</th>\n",
       "      <th>Air_Quality_Index</th>\n",
       "      <th>Neighborhood_Review</th>\n",
       "      <th>Number_of_Windows</th>\n",
       "      <th>Power_Backup_No</th>\n",
       "      <th>Power_Backup_Yes</th>\n",
       "      <th>Furnishing</th>\n",
       "      <th>Frequency_of_Powercuts</th>\n",
       "      <th>Crime_Rate</th>\n",
       "      <th>Dust_and_Noise</th>\n",
       "    </tr>\n",
       "    <tr>\n",
       "      <th>Id</th>\n",
       "      <th></th>\n",
       "      <th></th>\n",
       "      <th></th>\n",
       "      <th></th>\n",
       "      <th></th>\n",
       "      <th></th>\n",
       "      <th></th>\n",
       "      <th></th>\n",
       "      <th></th>\n",
       "      <th></th>\n",
       "      <th></th>\n",
       "      <th></th>\n",
       "      <th></th>\n",
       "      <th></th>\n",
       "    </tr>\n",
       "  </thead>\n",
       "  <tbody>\n",
       "    <tr>\n",
       "      <th>0x95ad</th>\n",
       "      <td>1</td>\n",
       "      <td>258</td>\n",
       "      <td>2</td>\n",
       "      <td>0</td>\n",
       "      <td>3.68</td>\n",
       "      <td>83.0</td>\n",
       "      <td>2.38</td>\n",
       "      <td>2.0</td>\n",
       "      <td>1.0</td>\n",
       "      <td>0.0</td>\n",
       "      <td>1.0</td>\n",
       "      <td>1.0</td>\n",
       "      <td>1.0</td>\n",
       "      <td>0.0</td>\n",
       "    </tr>\n",
       "    <tr>\n",
       "      <th>0x9cf9</th>\n",
       "      <td>4</td>\n",
       "      <td>1243</td>\n",
       "      <td>1</td>\n",
       "      <td>0</td>\n",
       "      <td>6.71</td>\n",
       "      <td>96.0</td>\n",
       "      <td>2.91</td>\n",
       "      <td>7.0</td>\n",
       "      <td>0.0</td>\n",
       "      <td>1.0</td>\n",
       "      <td>1.0</td>\n",
       "      <td>3.0</td>\n",
       "      <td>0.0</td>\n",
       "      <td>1.0</td>\n",
       "    </tr>\n",
       "    <tr>\n",
       "      <th>0x47e3</th>\n",
       "      <td>2</td>\n",
       "      <td>2215</td>\n",
       "      <td>2</td>\n",
       "      <td>0</td>\n",
       "      <td>7.76</td>\n",
       "      <td>148.0</td>\n",
       "      <td>3.46</td>\n",
       "      <td>10.0</td>\n",
       "      <td>1.0</td>\n",
       "      <td>0.0</td>\n",
       "      <td>1.0</td>\n",
       "      <td>1.0</td>\n",
       "      <td>3.0</td>\n",
       "      <td>1.0</td>\n",
       "    </tr>\n",
       "    <tr>\n",
       "      <th>0x8232</th>\n",
       "      <td>4</td>\n",
       "      <td>851</td>\n",
       "      <td>3</td>\n",
       "      <td>0</td>\n",
       "      <td>7.08</td>\n",
       "      <td>138.0</td>\n",
       "      <td>4.74</td>\n",
       "      <td>5.0</td>\n",
       "      <td>1.0</td>\n",
       "      <td>0.0</td>\n",
       "      <td>1.0</td>\n",
       "      <td>3.0</td>\n",
       "      <td>3.0</td>\n",
       "      <td>1.0</td>\n",
       "    </tr>\n",
       "    <tr>\n",
       "      <th>0x4fe7</th>\n",
       "      <td>5</td>\n",
       "      <td>1644</td>\n",
       "      <td>1</td>\n",
       "      <td>0</td>\n",
       "      <td>6.51</td>\n",
       "      <td>142.0</td>\n",
       "      <td>4.73</td>\n",
       "      <td>5.0</td>\n",
       "      <td>0.0</td>\n",
       "      <td>0.0</td>\n",
       "      <td>0.0</td>\n",
       "      <td>3.0</td>\n",
       "      <td>3.0</td>\n",
       "      <td>1.0</td>\n",
       "    </tr>\n",
       "  </tbody>\n",
       "</table>\n",
       "</div>"
      ],
      "text/plain": [
       "        Property_Type  Property_Area  Number_of_Doors  Water_Supply  \\\n",
       "Id                                                                    \n",
       "0x95ad              1            258                2             0   \n",
       "0x9cf9              4           1243                1             0   \n",
       "0x47e3              2           2215                2             0   \n",
       "0x8232              4            851                3             0   \n",
       "0x4fe7              5           1644                1             0   \n",
       "\n",
       "        Traffic_Density_Score  Air_Quality_Index  Neighborhood_Review  \\\n",
       "Id                                                                      \n",
       "0x95ad                   3.68               83.0                 2.38   \n",
       "0x9cf9                   6.71               96.0                 2.91   \n",
       "0x47e3                   7.76              148.0                 3.46   \n",
       "0x8232                   7.08              138.0                 4.74   \n",
       "0x4fe7                   6.51              142.0                 4.73   \n",
       "\n",
       "        Number_of_Windows  Power_Backup_No  Power_Backup_Yes  Furnishing  \\\n",
       "Id                                                                         \n",
       "0x95ad                2.0              1.0               0.0         1.0   \n",
       "0x9cf9                7.0              0.0               1.0         1.0   \n",
       "0x47e3               10.0              1.0               0.0         1.0   \n",
       "0x8232                5.0              1.0               0.0         1.0   \n",
       "0x4fe7                5.0              0.0               0.0         0.0   \n",
       "\n",
       "        Frequency_of_Powercuts  Crime_Rate  Dust_and_Noise  \n",
       "Id                                                          \n",
       "0x95ad                     1.0         1.0             0.0  \n",
       "0x9cf9                     3.0         0.0             1.0  \n",
       "0x47e3                     1.0         3.0             1.0  \n",
       "0x8232                     3.0         3.0             1.0  \n",
       "0x4fe7                     3.0         3.0             1.0  "
      ]
     },
     "execution_count": 18,
     "metadata": {},
     "output_type": "execute_result"
    }
   ],
   "source": [
    "X_train_encoded , X_valid_encoded, X_test_encoded = transform(X_train_imputed, X_valid_imputed, X_test_imputed, custom_encodings.keys(), one_hot_cols)\n",
    "print(X_train_encoded.shape)\n",
    "X_train_encoded.head()"
   ]
  },
  {
   "cell_type": "code",
   "execution_count": 19,
   "id": "7531b12a",
   "metadata": {
    "execution": {
     "iopub.execute_input": "2024-03-24T13:47:13.785117Z",
     "iopub.status.busy": "2024-03-24T13:47:13.784706Z",
     "iopub.status.idle": "2024-03-24T13:47:13.792694Z",
     "shell.execute_reply": "2024-03-24T13:47:13.791252Z"
    },
    "papermill": {
     "duration": 0.032613,
     "end_time": "2024-03-24T13:47:13.795247",
     "exception": false,
     "start_time": "2024-03-24T13:47:13.762634",
     "status": "completed"
    },
    "tags": []
   },
   "outputs": [
    {
     "data": {
      "text/plain": [
       "Index(['Property_Type', 'Property_Area', 'Number_of_Doors', 'Water_Supply',\n",
       "       'Traffic_Density_Score', 'Air_Quality_Index', 'Neighborhood_Review',\n",
       "       'Number_of_Windows', 'Power_Backup_No', 'Power_Backup_Yes',\n",
       "       'Furnishing', 'Frequency_of_Powercuts', 'Crime_Rate', 'Dust_and_Noise'],\n",
       "      dtype='object')"
      ]
     },
     "execution_count": 19,
     "metadata": {},
     "output_type": "execute_result"
    }
   ],
   "source": [
    "X_train_encoded.columns"
   ]
  },
  {
   "cell_type": "code",
   "execution_count": 20,
   "id": "d7892c38",
   "metadata": {
    "execution": {
     "iopub.execute_input": "2024-03-24T13:47:13.839950Z",
     "iopub.status.busy": "2024-03-24T13:47:13.839483Z",
     "iopub.status.idle": "2024-03-24T13:47:13.844041Z",
     "shell.execute_reply": "2024-03-24T13:47:13.842855Z"
    },
    "papermill": {
     "duration": 0.03034,
     "end_time": "2024-03-24T13:47:13.846415",
     "exception": false,
     "start_time": "2024-03-24T13:47:13.816075",
     "status": "completed"
    },
    "tags": []
   },
   "outputs": [],
   "source": [
    "# X_train_encoded.drop(columns=['Power_Backup_No'],axis =1 , inplace = True)\n",
    "# X_valid_encoded.drop(columns=['Power_Backup_No'],axis =1 , inplace = True)\n",
    "# X_test_encoded.drop(columns=['Power_Backup_No'],axis =1 , inplace = True)"
   ]
  },
  {
   "cell_type": "code",
   "execution_count": 21,
   "id": "a322a0c6",
   "metadata": {
    "execution": {
     "iopub.execute_input": "2024-03-24T13:47:13.889621Z",
     "iopub.status.busy": "2024-03-24T13:47:13.889126Z",
     "iopub.status.idle": "2024-03-24T13:47:14.279662Z",
     "shell.execute_reply": "2024-03-24T13:47:14.278501Z"
    },
    "papermill": {
     "duration": 0.415384,
     "end_time": "2024-03-24T13:47:14.282329",
     "exception": false,
     "start_time": "2024-03-24T13:47:13.866945",
     "status": "completed"
    },
    "tags": []
   },
   "outputs": [
    {
     "name": "stdout",
     "output_type": "stream",
     "text": [
      "Root Mean Squared Error (RMSE) on validation set: 6.19499138489397\n"
     ]
    }
   ],
   "source": [
    "model1 = LinearRegression()\n",
    "model2 = Ridge(alpha=1.0)\n",
    "model3 = XGBRegressor()\n",
    "model4 = SVR()\n",
    "\n",
    "model = model3\n",
    "# Create the pipeline\n",
    "# pipeline = Pipeline(steps=[\n",
    "#     ('preprocessor', preprocessor),\n",
    "#     ('model', model3)\n",
    "# ])\n",
    "predict_and_evaluate(model, X_train_encoded, y_train, X_valid_encoded,y_valid)\n"
   ]
  },
  {
   "cell_type": "code",
   "execution_count": 22,
   "id": "bb4386a8",
   "metadata": {
    "execution": {
     "iopub.execute_input": "2024-03-24T13:47:14.398993Z",
     "iopub.status.busy": "2024-03-24T13:47:14.397637Z",
     "iopub.status.idle": "2024-03-24T13:47:14.406683Z",
     "shell.execute_reply": "2024-03-24T13:47:14.405507Z"
    },
    "papermill": {
     "duration": 0.098857,
     "end_time": "2024-03-24T13:47:14.409458",
     "exception": false,
     "start_time": "2024-03-24T13:47:14.310601",
     "status": "completed"
    },
    "tags": []
   },
   "outputs": [],
   "source": [
    "from sklearn.model_selection import GridSearchCV\n",
    "# from xgboost import XGBRegressor\n",
    "\n",
    "def grid_search(model, X_train,y_train,param_grid):\n",
    "    \n",
    "    scoring = 'neg_mean_squared_error'  # RMSE\n",
    "\n",
    "    # Perform grid search with cross-validation\n",
    "    grid_search = GridSearchCV(estimator=model, param_grid=param_grid, scoring=scoring, cv=5)\n",
    "    grid_result = grid_search.fit(X_train, y_train)\n",
    "    best_params = grid_result.best_params_\n",
    "    print(\"Best Hyperparameters:\", best_params)\n",
    "\n",
    "\n",
    "\n",
    "\n"
   ]
  },
  {
   "cell_type": "code",
   "execution_count": 23,
   "id": "15924ac5",
   "metadata": {
    "execution": {
     "iopub.execute_input": "2024-03-24T13:47:14.468427Z",
     "iopub.status.busy": "2024-03-24T13:47:14.467438Z",
     "iopub.status.idle": "2024-03-24T13:47:14.473068Z",
     "shell.execute_reply": "2024-03-24T13:47:14.472137Z"
    },
    "papermill": {
     "duration": 0.040253,
     "end_time": "2024-03-24T13:47:14.476000",
     "exception": false,
     "start_time": "2024-03-24T13:47:14.435747",
     "status": "completed"
    },
    "tags": []
   },
   "outputs": [],
   "source": [
    "# \n",
    "param_grid = {\n",
    "        'learning_rate': [0.075,0.1,0.125],#0.2,0.3\n",
    "        'n_estimators': [125,150,175], #300,200\n",
    "        'max_depth': [ 5,6,7],\n",
    "        'min_child_weight': [4,5,6],\n",
    "        # Add more hyperparameters as neededa\n",
    "    }\n",
    "# grid_search(model3, X_train_encoded,y_train,param_grid)"
   ]
  },
  {
   "cell_type": "code",
   "execution_count": 24,
   "id": "7b3bcbf4",
   "metadata": {
    "execution": {
     "iopub.execute_input": "2024-03-24T13:47:14.526923Z",
     "iopub.status.busy": "2024-03-24T13:47:14.526145Z",
     "iopub.status.idle": "2024-03-24T13:47:16.008949Z",
     "shell.execute_reply": "2024-03-24T13:47:16.007833Z"
    },
    "papermill": {
     "duration": 1.508479,
     "end_time": "2024-03-24T13:47:16.011825",
     "exception": false,
     "start_time": "2024-03-24T13:47:14.503346",
     "status": "completed"
    },
    "tags": []
   },
   "outputs": [
    {
     "name": "stdout",
     "output_type": "stream",
     "text": [
      "Root Mean Squared Error (RMSE) on validation set: 6.018276087572054\n"
     ]
    }
   ],
   "source": [
    "model4 = XGBRegressor(learning_rate = 0.075, max_depth = 7, min_child_weight= 6, n_estimators = 125)\n",
    "predict_and_evaluate(model4, X_train_encoded, y_train, X_valid_encoded,y_valid)"
   ]
  },
  {
   "cell_type": "code",
   "execution_count": 25,
   "id": "d145a242",
   "metadata": {
    "execution": {
     "iopub.execute_input": "2024-03-24T13:47:16.068471Z",
     "iopub.status.busy": "2024-03-24T13:47:16.068021Z",
     "iopub.status.idle": "2024-03-24T13:47:16.092847Z",
     "shell.execute_reply": "2024-03-24T13:47:16.091719Z"
    },
    "papermill": {
     "duration": 0.054716,
     "end_time": "2024-03-24T13:47:16.095661",
     "exception": false,
     "start_time": "2024-03-24T13:47:16.040945",
     "status": "completed"
    },
    "tags": []
   },
   "outputs": [],
   "source": [
    "from sklearn.preprocessing import StandardScaler\n",
    "\n",
    "# Assuming X_train and X_test are pandas DataFrames\n",
    "scaler = StandardScaler()\n",
    "X_train_scaled = scaler.fit_transform(X_train_encoded)\n",
    "X_valid_scaled = scaler.transform(X_valid_encoded)\n",
    "X_test_scaled = scaler.transform(X_test_encoded)\n",
    "\n",
    "# Convert scaled arrays back to pandas DataFrames\n",
    "X_train_scaled_df = pd.DataFrame(X_train_scaled, columns=X_train_encoded.columns, index =X_train_encoded.index )\n",
    "X_valid_scaled_df = pd.DataFrame(X_valid_scaled, columns=X_valid_encoded.columns, index =X_valid_encoded.index )\n",
    "X_test_scaled_df = pd.DataFrame(X_test_scaled, columns=X_test_encoded.columns, index = X_test_encoded.index)\n"
   ]
  },
  {
   "cell_type": "code",
   "execution_count": 26,
   "id": "0ccb1791",
   "metadata": {
    "execution": {
     "iopub.execute_input": "2024-03-24T13:47:16.139738Z",
     "iopub.status.busy": "2024-03-24T13:47:16.139330Z",
     "iopub.status.idle": "2024-03-24T13:47:16.449147Z",
     "shell.execute_reply": "2024-03-24T13:47:16.447979Z"
    },
    "papermill": {
     "duration": 0.334977,
     "end_time": "2024-03-24T13:47:16.451963",
     "exception": false,
     "start_time": "2024-03-24T13:47:16.116986",
     "status": "completed"
    },
    "tags": []
   },
   "outputs": [
    {
     "name": "stdout",
     "output_type": "stream",
     "text": [
      "Root Mean Squared Error (RMSE) on validation set: 6.19499138489397\n"
     ]
    }
   ],
   "source": [
    "predict_and_evaluate(model, X_train_scaled_df,y_train, X_valid_scaled_df, y_valid)"
   ]
  },
  {
   "cell_type": "code",
   "execution_count": 27,
   "id": "5ab8ce82",
   "metadata": {
    "execution": {
     "iopub.execute_input": "2024-03-24T13:47:16.501267Z",
     "iopub.status.busy": "2024-03-24T13:47:16.499823Z",
     "iopub.status.idle": "2024-03-24T13:47:16.744793Z",
     "shell.execute_reply": "2024-03-24T13:47:16.743042Z"
    },
    "papermill": {
     "duration": 0.272858,
     "end_time": "2024-03-24T13:47:16.749126",
     "exception": false,
     "start_time": "2024-03-24T13:47:16.476268",
     "status": "completed"
    },
    "tags": []
   },
   "outputs": [],
   "source": [
    "from sklearn.decomposition import PCA\n",
    "\n",
    "pca = PCA(n_components =10)\n",
    "\n",
    "# # Transform the data\n",
    "X_train_pca = pca.fit_transform(X_train_scaled_df)\n",
    "X_valid_pca = pca.transform(X_valid_scaled_df)\n",
    "X_test_pca = pca.transform(X_test_scaled_df)\n",
    "\n",
    "# # Calculate the covariance matrix\n",
    "# cov_matrix = np.cov(X_train_preprocessed, rowvar=False)\n"
   ]
  },
  {
   "cell_type": "code",
   "execution_count": 28,
   "id": "9892fb61",
   "metadata": {
    "execution": {
     "iopub.execute_input": "2024-03-24T13:47:16.870647Z",
     "iopub.status.busy": "2024-03-24T13:47:16.870241Z",
     "iopub.status.idle": "2024-03-24T13:47:16.893229Z",
     "shell.execute_reply": "2024-03-24T13:47:16.892143Z"
    },
    "papermill": {
     "duration": 0.064926,
     "end_time": "2024-03-24T13:47:16.895630",
     "exception": false,
     "start_time": "2024-03-24T13:47:16.830704",
     "status": "completed"
    },
    "tags": []
   },
   "outputs": [
    {
     "data": {
      "text/html": [
       "<div>\n",
       "<style scoped>\n",
       "    .dataframe tbody tr th:only-of-type {\n",
       "        vertical-align: middle;\n",
       "    }\n",
       "\n",
       "    .dataframe tbody tr th {\n",
       "        vertical-align: top;\n",
       "    }\n",
       "\n",
       "    .dataframe thead th {\n",
       "        text-align: right;\n",
       "    }\n",
       "</style>\n",
       "<table border=\"1\" class=\"dataframe\">\n",
       "  <thead>\n",
       "    <tr style=\"text-align: right;\">\n",
       "      <th></th>\n",
       "      <th>PC1</th>\n",
       "      <th>PC2</th>\n",
       "      <th>PC3</th>\n",
       "      <th>PC4</th>\n",
       "      <th>PC5</th>\n",
       "      <th>PC6</th>\n",
       "      <th>PC7</th>\n",
       "      <th>PC8</th>\n",
       "      <th>PC9</th>\n",
       "      <th>PC10</th>\n",
       "    </tr>\n",
       "    <tr>\n",
       "      <th>Id</th>\n",
       "      <th></th>\n",
       "      <th></th>\n",
       "      <th></th>\n",
       "      <th></th>\n",
       "      <th></th>\n",
       "      <th></th>\n",
       "      <th></th>\n",
       "      <th></th>\n",
       "      <th></th>\n",
       "      <th></th>\n",
       "    </tr>\n",
       "  </thead>\n",
       "  <tbody>\n",
       "    <tr>\n",
       "      <th>0x95ad</th>\n",
       "      <td>1.080237</td>\n",
       "      <td>-1.707277</td>\n",
       "      <td>-3.958013</td>\n",
       "      <td>-0.624943</td>\n",
       "      <td>1.194654</td>\n",
       "      <td>0.206790</td>\n",
       "      <td>-0.705928</td>\n",
       "      <td>-1.316367</td>\n",
       "      <td>1.169580</td>\n",
       "      <td>0.345235</td>\n",
       "    </tr>\n",
       "    <tr>\n",
       "      <th>0x9cf9</th>\n",
       "      <td>2.574213</td>\n",
       "      <td>1.477572</td>\n",
       "      <td>-0.379761</td>\n",
       "      <td>0.181949</td>\n",
       "      <td>-0.316700</td>\n",
       "      <td>-1.213214</td>\n",
       "      <td>-2.141935</td>\n",
       "      <td>0.588872</td>\n",
       "      <td>-0.127001</td>\n",
       "      <td>-0.184865</td>\n",
       "    </tr>\n",
       "    <tr>\n",
       "      <th>0x47e3</th>\n",
       "      <td>0.035820</td>\n",
       "      <td>-0.857194</td>\n",
       "      <td>0.883140</td>\n",
       "      <td>1.324451</td>\n",
       "      <td>1.541275</td>\n",
       "      <td>1.287477</td>\n",
       "      <td>0.245783</td>\n",
       "      <td>-1.461221</td>\n",
       "      <td>0.184431</td>\n",
       "      <td>0.050354</td>\n",
       "    </tr>\n",
       "    <tr>\n",
       "      <th>0x8232</th>\n",
       "      <td>-1.856586</td>\n",
       "      <td>0.259701</td>\n",
       "      <td>0.868995</td>\n",
       "      <td>0.450543</td>\n",
       "      <td>0.224679</td>\n",
       "      <td>0.173451</td>\n",
       "      <td>-0.542149</td>\n",
       "      <td>-0.038542</td>\n",
       "      <td>0.211991</td>\n",
       "      <td>-0.779793</td>\n",
       "    </tr>\n",
       "    <tr>\n",
       "      <th>0x4fe7</th>\n",
       "      <td>-1.058771</td>\n",
       "      <td>1.627027</td>\n",
       "      <td>0.531407</td>\n",
       "      <td>-0.212900</td>\n",
       "      <td>1.325420</td>\n",
       "      <td>-0.216351</td>\n",
       "      <td>-0.387800</td>\n",
       "      <td>1.528128</td>\n",
       "      <td>0.264374</td>\n",
       "      <td>-0.145400</td>\n",
       "    </tr>\n",
       "  </tbody>\n",
       "</table>\n",
       "</div>"
      ],
      "text/plain": [
       "             PC1       PC2       PC3       PC4       PC5       PC6       PC7  \\\n",
       "Id                                                                             \n",
       "0x95ad  1.080237 -1.707277 -3.958013 -0.624943  1.194654  0.206790 -0.705928   \n",
       "0x9cf9  2.574213  1.477572 -0.379761  0.181949 -0.316700 -1.213214 -2.141935   \n",
       "0x47e3  0.035820 -0.857194  0.883140  1.324451  1.541275  1.287477  0.245783   \n",
       "0x8232 -1.856586  0.259701  0.868995  0.450543  0.224679  0.173451 -0.542149   \n",
       "0x4fe7 -1.058771  1.627027  0.531407 -0.212900  1.325420 -0.216351 -0.387800   \n",
       "\n",
       "             PC8       PC9      PC10  \n",
       "Id                                    \n",
       "0x95ad -1.316367  1.169580  0.345235  \n",
       "0x9cf9  0.588872 -0.127001 -0.184865  \n",
       "0x47e3 -1.461221  0.184431  0.050354  \n",
       "0x8232 -0.038542  0.211991 -0.779793  \n",
       "0x4fe7  1.528128  0.264374 -0.145400  "
      ]
     },
     "execution_count": 28,
     "metadata": {},
     "output_type": "execute_result"
    }
   ],
   "source": [
    "component_names = [f\"PC{i+1}\" for i in range(X_train_pca.shape[1])]\n",
    "X_train_pca = pd.DataFrame(X_train_pca, columns=component_names, index = X_train_encoded.index)\n",
    "X_valid_pca = pd.DataFrame(X_valid_pca, columns=component_names,index = X_valid_encoded.index)\n",
    "X_test_pca = pd.DataFrame(X_test_pca, columns=component_names,index = X_test_encoded.index)\n",
    "\n",
    "X_train_pca.head()"
   ]
  },
  {
   "cell_type": "code",
   "execution_count": 29,
   "id": "7970b468",
   "metadata": {
    "execution": {
     "iopub.execute_input": "2024-03-24T13:47:16.940882Z",
     "iopub.status.busy": "2024-03-24T13:47:16.940498Z",
     "iopub.status.idle": "2024-03-24T13:47:16.964079Z",
     "shell.execute_reply": "2024-03-24T13:47:16.962764Z"
    },
    "papermill": {
     "duration": 0.049077,
     "end_time": "2024-03-24T13:47:16.966549",
     "exception": false,
     "start_time": "2024-03-24T13:47:16.917472",
     "status": "completed"
    },
    "tags": []
   },
   "outputs": [
    {
     "data": {
      "text/html": [
       "<div>\n",
       "<style scoped>\n",
       "    .dataframe tbody tr th:only-of-type {\n",
       "        vertical-align: middle;\n",
       "    }\n",
       "\n",
       "    .dataframe tbody tr th {\n",
       "        vertical-align: top;\n",
       "    }\n",
       "\n",
       "    .dataframe thead th {\n",
       "        text-align: right;\n",
       "    }\n",
       "</style>\n",
       "<table border=\"1\" class=\"dataframe\">\n",
       "  <thead>\n",
       "    <tr style=\"text-align: right;\">\n",
       "      <th></th>\n",
       "      <th>PC1</th>\n",
       "      <th>PC2</th>\n",
       "      <th>PC3</th>\n",
       "      <th>PC4</th>\n",
       "      <th>PC5</th>\n",
       "      <th>PC6</th>\n",
       "      <th>PC7</th>\n",
       "      <th>PC8</th>\n",
       "      <th>PC9</th>\n",
       "      <th>PC10</th>\n",
       "    </tr>\n",
       "  </thead>\n",
       "  <tbody>\n",
       "    <tr>\n",
       "      <th>Property_Type</th>\n",
       "      <td>-0.010641</td>\n",
       "      <td>0.024403</td>\n",
       "      <td>0.021842</td>\n",
       "      <td>0.265407</td>\n",
       "      <td>0.025671</td>\n",
       "      <td>0.335579</td>\n",
       "      <td>-0.292237</td>\n",
       "      <td>0.757414</td>\n",
       "      <td>0.048697</td>\n",
       "      <td>-0.387592</td>\n",
       "    </tr>\n",
       "    <tr>\n",
       "      <th>Property_Area</th>\n",
       "      <td>-0.023773</td>\n",
       "      <td>0.051350</td>\n",
       "      <td>0.051436</td>\n",
       "      <td>0.498968</td>\n",
       "      <td>0.038365</td>\n",
       "      <td>0.089160</td>\n",
       "      <td>-0.057542</td>\n",
       "      <td>0.181204</td>\n",
       "      <td>-0.109508</td>\n",
       "      <td>0.824598</td>\n",
       "    </tr>\n",
       "    <tr>\n",
       "      <th>Number_of_Doors</th>\n",
       "      <td>-0.007321</td>\n",
       "      <td>0.048452</td>\n",
       "      <td>0.044887</td>\n",
       "      <td>0.560929</td>\n",
       "      <td>-0.035989</td>\n",
       "      <td>-0.129480</td>\n",
       "      <td>0.109324</td>\n",
       "      <td>-0.315041</td>\n",
       "      <td>0.018793</td>\n",
       "      <td>-0.321164</td>\n",
       "    </tr>\n",
       "    <tr>\n",
       "      <th>Water_Supply</th>\n",
       "      <td>0.183827</td>\n",
       "      <td>-0.120712</td>\n",
       "      <td>-0.053701</td>\n",
       "      <td>0.012868</td>\n",
       "      <td>-0.510097</td>\n",
       "      <td>0.025543</td>\n",
       "      <td>0.739872</td>\n",
       "      <td>0.301559</td>\n",
       "      <td>-0.044778</td>\n",
       "      <td>0.008116</td>\n",
       "    </tr>\n",
       "    <tr>\n",
       "      <th>Traffic_Density_Score</th>\n",
       "      <td>0.096664</td>\n",
       "      <td>-0.048830</td>\n",
       "      <td>0.635499</td>\n",
       "      <td>-0.048533</td>\n",
       "      <td>0.006235</td>\n",
       "      <td>0.046795</td>\n",
       "      <td>0.008003</td>\n",
       "      <td>-0.012013</td>\n",
       "      <td>-0.228427</td>\n",
       "      <td>-0.042971</td>\n",
       "    </tr>\n",
       "    <tr>\n",
       "      <th>Air_Quality_Index</th>\n",
       "      <td>0.070320</td>\n",
       "      <td>-0.041007</td>\n",
       "      <td>0.439314</td>\n",
       "      <td>-0.030747</td>\n",
       "      <td>0.020122</td>\n",
       "      <td>-0.007382</td>\n",
       "      <td>0.060609</td>\n",
       "      <td>0.022221</td>\n",
       "      <td>0.876501</td>\n",
       "      <td>0.109542</td>\n",
       "    </tr>\n",
       "    <tr>\n",
       "      <th>Neighborhood_Review</th>\n",
       "      <td>-0.591884</td>\n",
       "      <td>0.357512</td>\n",
       "      <td>0.119628</td>\n",
       "      <td>-0.063046</td>\n",
       "      <td>-0.008813</td>\n",
       "      <td>-0.001961</td>\n",
       "      <td>0.001543</td>\n",
       "      <td>-0.003416</td>\n",
       "      <td>-0.010579</td>\n",
       "      <td>-0.008657</td>\n",
       "    </tr>\n",
       "    <tr>\n",
       "      <th>Number_of_Windows</th>\n",
       "      <td>-0.023036</td>\n",
       "      <td>0.053855</td>\n",
       "      <td>0.049150</td>\n",
       "      <td>0.590604</td>\n",
       "      <td>-0.029558</td>\n",
       "      <td>-0.101064</td>\n",
       "      <td>0.082219</td>\n",
       "      <td>-0.192943</td>\n",
       "      <td>0.050500</td>\n",
       "      <td>-0.219695</td>\n",
       "    </tr>\n",
       "    <tr>\n",
       "      <th>Power_Backup_No</th>\n",
       "      <td>-0.364519</td>\n",
       "      <td>-0.604126</td>\n",
       "      <td>0.014892</td>\n",
       "      <td>0.041913</td>\n",
       "      <td>-0.004821</td>\n",
       "      <td>-0.004493</td>\n",
       "      <td>-0.009429</td>\n",
       "      <td>-0.003447</td>\n",
       "      <td>-0.005561</td>\n",
       "      <td>-0.001227</td>\n",
       "    </tr>\n",
       "    <tr>\n",
       "      <th>Power_Backup_Yes</th>\n",
       "      <td>0.365240</td>\n",
       "      <td>0.603610</td>\n",
       "      <td>-0.012859</td>\n",
       "      <td>-0.043498</td>\n",
       "      <td>0.005321</td>\n",
       "      <td>0.004458</td>\n",
       "      <td>0.011425</td>\n",
       "      <td>0.002073</td>\n",
       "      <td>0.002387</td>\n",
       "      <td>-0.001644</td>\n",
       "    </tr>\n",
       "    <tr>\n",
       "      <th>Furnishing</th>\n",
       "      <td>0.008252</td>\n",
       "      <td>0.003059</td>\n",
       "      <td>-0.007248</td>\n",
       "      <td>-0.006425</td>\n",
       "      <td>-0.672461</td>\n",
       "      <td>0.557277</td>\n",
       "      <td>-0.343556</td>\n",
       "      <td>-0.339323</td>\n",
       "      <td>0.050276</td>\n",
       "      <td>0.033971</td>\n",
       "    </tr>\n",
       "    <tr>\n",
       "      <th>Frequency_of_Powercuts</th>\n",
       "      <td>-0.347446</td>\n",
       "      <td>0.218376</td>\n",
       "      <td>0.106857</td>\n",
       "      <td>-0.045889</td>\n",
       "      <td>-0.497659</td>\n",
       "      <td>-0.561476</td>\n",
       "      <td>-0.155915</td>\n",
       "      <td>0.216286</td>\n",
       "      <td>0.000867</td>\n",
       "      <td>0.021227</td>\n",
       "    </tr>\n",
       "    <tr>\n",
       "      <th>Crime_Rate</th>\n",
       "      <td>-0.435673</td>\n",
       "      <td>0.249746</td>\n",
       "      <td>0.120048</td>\n",
       "      <td>-0.048077</td>\n",
       "      <td>0.186054</td>\n",
       "      <td>0.471943</td>\n",
       "      <td>0.442972</td>\n",
       "      <td>-0.058103</td>\n",
       "      <td>-0.043734</td>\n",
       "      <td>-0.027684</td>\n",
       "    </tr>\n",
       "    <tr>\n",
       "      <th>Dust_and_Noise</th>\n",
       "      <td>0.153158</td>\n",
       "      <td>-0.075390</td>\n",
       "      <td>0.593403</td>\n",
       "      <td>-0.039838</td>\n",
       "      <td>-0.021061</td>\n",
       "      <td>-0.031210</td>\n",
       "      <td>-0.051383</td>\n",
       "      <td>-0.010587</td>\n",
       "      <td>-0.394595</td>\n",
       "      <td>-0.045128</td>\n",
       "    </tr>\n",
       "  </tbody>\n",
       "</table>\n",
       "</div>"
      ],
      "text/plain": [
       "                             PC1       PC2       PC3       PC4       PC5  \\\n",
       "Property_Type          -0.010641  0.024403  0.021842  0.265407  0.025671   \n",
       "Property_Area          -0.023773  0.051350  0.051436  0.498968  0.038365   \n",
       "Number_of_Doors        -0.007321  0.048452  0.044887  0.560929 -0.035989   \n",
       "Water_Supply            0.183827 -0.120712 -0.053701  0.012868 -0.510097   \n",
       "Traffic_Density_Score   0.096664 -0.048830  0.635499 -0.048533  0.006235   \n",
       "Air_Quality_Index       0.070320 -0.041007  0.439314 -0.030747  0.020122   \n",
       "Neighborhood_Review    -0.591884  0.357512  0.119628 -0.063046 -0.008813   \n",
       "Number_of_Windows      -0.023036  0.053855  0.049150  0.590604 -0.029558   \n",
       "Power_Backup_No        -0.364519 -0.604126  0.014892  0.041913 -0.004821   \n",
       "Power_Backup_Yes        0.365240  0.603610 -0.012859 -0.043498  0.005321   \n",
       "Furnishing              0.008252  0.003059 -0.007248 -0.006425 -0.672461   \n",
       "Frequency_of_Powercuts -0.347446  0.218376  0.106857 -0.045889 -0.497659   \n",
       "Crime_Rate             -0.435673  0.249746  0.120048 -0.048077  0.186054   \n",
       "Dust_and_Noise          0.153158 -0.075390  0.593403 -0.039838 -0.021061   \n",
       "\n",
       "                             PC6       PC7       PC8       PC9      PC10  \n",
       "Property_Type           0.335579 -0.292237  0.757414  0.048697 -0.387592  \n",
       "Property_Area           0.089160 -0.057542  0.181204 -0.109508  0.824598  \n",
       "Number_of_Doors        -0.129480  0.109324 -0.315041  0.018793 -0.321164  \n",
       "Water_Supply            0.025543  0.739872  0.301559 -0.044778  0.008116  \n",
       "Traffic_Density_Score   0.046795  0.008003 -0.012013 -0.228427 -0.042971  \n",
       "Air_Quality_Index      -0.007382  0.060609  0.022221  0.876501  0.109542  \n",
       "Neighborhood_Review    -0.001961  0.001543 -0.003416 -0.010579 -0.008657  \n",
       "Number_of_Windows      -0.101064  0.082219 -0.192943  0.050500 -0.219695  \n",
       "Power_Backup_No        -0.004493 -0.009429 -0.003447 -0.005561 -0.001227  \n",
       "Power_Backup_Yes        0.004458  0.011425  0.002073  0.002387 -0.001644  \n",
       "Furnishing              0.557277 -0.343556 -0.339323  0.050276  0.033971  \n",
       "Frequency_of_Powercuts -0.561476 -0.155915  0.216286  0.000867  0.021227  \n",
       "Crime_Rate              0.471943  0.442972 -0.058103 -0.043734 -0.027684  \n",
       "Dust_and_Noise         -0.031210 -0.051383 -0.010587 -0.394595 -0.045128  "
      ]
     },
     "execution_count": 29,
     "metadata": {},
     "output_type": "execute_result"
    }
   ],
   "source": [
    "# Create loadings\n",
    "loadings = pd.DataFrame(\n",
    "    pca.components_.T,  # transpose the matrix of loadings\n",
    "    columns=component_names,  # so the columns are the principal components\n",
    "    index=X_train_encoded.columns,  # and the rows are the original features\n",
    ")\n",
    "loadings"
   ]
  },
  {
   "cell_type": "code",
   "execution_count": 30,
   "id": "935512ec",
   "metadata": {
    "execution": {
     "iopub.execute_input": "2024-03-24T13:47:17.013881Z",
     "iopub.status.busy": "2024-03-24T13:47:17.013458Z",
     "iopub.status.idle": "2024-03-24T13:47:17.404266Z",
     "shell.execute_reply": "2024-03-24T13:47:17.403242Z"
    },
    "papermill": {
     "duration": 0.416395,
     "end_time": "2024-03-24T13:47:17.406652",
     "exception": false,
     "start_time": "2024-03-24T13:47:16.990257",
     "status": "completed"
    },
    "tags": []
   },
   "outputs": [
    {
     "name": "stdout",
     "output_type": "stream",
     "text": [
      "Root Mean Squared Error (RMSE) on validation set: 6.5309673755647895\n"
     ]
    }
   ],
   "source": [
    "predict_and_evaluate(model, X_train_pca,y_train, X_valid_pca, y_valid)"
   ]
  },
  {
   "cell_type": "code",
   "execution_count": 31,
   "id": "6d970057",
   "metadata": {
    "execution": {
     "iopub.execute_input": "2024-03-24T13:47:17.453616Z",
     "iopub.status.busy": "2024-03-24T13:47:17.453161Z",
     "iopub.status.idle": "2024-03-24T13:47:17.459279Z",
     "shell.execute_reply": "2024-03-24T13:47:17.458122Z"
    },
    "papermill": {
     "duration": 0.032154,
     "end_time": "2024-03-24T13:47:17.461809",
     "exception": false,
     "start_time": "2024-03-24T13:47:17.429655",
     "status": "completed"
    },
    "tags": []
   },
   "outputs": [],
   "source": [
    "X_train_added = pd.concat([X_train])"
   ]
  },
  {
   "cell_type": "code",
   "execution_count": null,
   "id": "b2e5c8be",
   "metadata": {
    "papermill": {
     "duration": 0.021749,
     "end_time": "2024-03-24T13:47:17.506673",
     "exception": false,
     "start_time": "2024-03-24T13:47:17.484924",
     "status": "completed"
    },
    "tags": []
   },
   "outputs": [],
   "source": []
  },
  {
   "cell_type": "code",
   "execution_count": 32,
   "id": "f844c96a",
   "metadata": {
    "execution": {
     "iopub.execute_input": "2024-03-24T13:47:17.551723Z",
     "iopub.status.busy": "2024-03-24T13:47:17.551332Z",
     "iopub.status.idle": "2024-03-24T13:47:17.939166Z",
     "shell.execute_reply": "2024-03-24T13:47:17.938130Z"
    },
    "papermill": {
     "duration": 0.413581,
     "end_time": "2024-03-24T13:47:17.941970",
     "exception": false,
     "start_time": "2024-03-24T13:47:17.528389",
     "status": "completed"
    },
    "tags": []
   },
   "outputs": [
    {
     "name": "stdout",
     "output_type": "stream",
     "text": [
      "Root Mean Squared Error (RMSE) on validation set: 6.5309673755647895\n"
     ]
    }
   ],
   "source": [
    "predict_and_evaluate(model, X_train_pca,y_train, X_valid_pca, y_valid)"
   ]
  },
  {
   "cell_type": "code",
   "execution_count": 33,
   "id": "7f19a773",
   "metadata": {
    "execution": {
     "iopub.execute_input": "2024-03-24T13:47:17.989277Z",
     "iopub.status.busy": "2024-03-24T13:47:17.988888Z",
     "iopub.status.idle": "2024-03-24T13:47:19.441021Z",
     "shell.execute_reply": "2024-03-24T13:47:19.439591Z"
    },
    "papermill": {
     "duration": 1.47789,
     "end_time": "2024-03-24T13:47:19.443266",
     "exception": false,
     "start_time": "2024-03-24T13:47:17.965376",
     "status": "completed"
    },
    "tags": []
   },
   "outputs": [
    {
     "data": {
      "image/png": "[encoded data removed]",
      "text/plain": [
       "<Figure size 1000x800 with 2 Axes>"
      ]
     },
     "metadata": {},
     "output_type": "display_data"
    }
   ],
   "source": [
    "import numpy as np\n",
    "import matplotlib.pyplot as plt\n",
    "import seaborn as sns\n",
    "\n",
    "# Generate random data for demonstration\n",
    "\n",
    "X_full = pd.concat([X_train_encoded, y_train],axis = 1)\n",
    "# Create a heat map using seaborn\n",
    "corr_matrix = X_full.corr()\n",
    "\n",
    "# Plotting the correlation matrix as a heat map\n",
    "plt.figure(figsize=(10, 8))\n",
    "sns.heatmap(corr_matrix, annot=True, cmap='coolwarm', fmt=\".2f\")\n",
    "plt.title('Correlation Matrix of X_train_encoded')\n",
    "plt.show()"
   ]
  },
  {
   "cell_type": "code",
   "execution_count": 34,
   "id": "982d7860",
   "metadata": {
    "execution": {
     "iopub.execute_input": "2024-03-24T13:47:19.496476Z",
     "iopub.status.busy": "2024-03-24T13:47:19.496013Z",
     "iopub.status.idle": "2024-03-24T13:47:19.521267Z",
     "shell.execute_reply": "2024-03-24T13:47:19.520088Z"
    },
    "papermill": {
     "duration": 0.055564,
     "end_time": "2024-03-24T13:47:19.524100",
     "exception": false,
     "start_time": "2024-03-24T13:47:19.468536",
     "status": "completed"
    },
    "tags": []
   },
   "outputs": [],
   "source": [
    "from sklearn.feature_selection import mutual_info_regression\n",
    "def make_mi_scores(X, y):\n",
    "    X = X.copy()\n",
    "    for colname in X.select_dtypes([\"object\", \"category\"]):\n",
    "        X[colname], _ = X[colname].factorize()\n",
    "    # All discrete features should now have integer dtypes\n",
    "    discrete_features = [pd.api.types.is_integer_dtype(t) for t in X.dtypes]\n",
    "    mi_scores = mutual_info_regression(X, y, discrete_features=discrete_features, random_state=0)\n",
    "    mi_scores = pd.Series(mi_scores, name=\"MI Scores\", index=X.columns)\n",
    "    mi_scores = mi_scores.sort_values(ascending=False)\n",
    "    return mi_scores\n",
    "def plot_mi_scores(scores):\n",
    "    scores = scores.sort_values(ascending=True)\n",
    "    width = np.arange(len(scores))\n",
    "    ticks = list(scores.index)\n",
    "    plt.barh(width, scores)\n",
    "    plt.yticks(width, ticks)\n",
    "    plt.title(\"Mutual Information Scores\")"
   ]
  },
  {
   "cell_type": "code",
   "execution_count": null,
   "id": "11e0410f",
   "metadata": {
    "papermill": {
     "duration": 0.024331,
     "end_time": "2024-03-24T13:47:19.573223",
     "exception": false,
     "start_time": "2024-03-24T13:47:19.548892",
     "status": "completed"
    },
    "tags": []
   },
   "outputs": [],
   "source": []
  },
  {
   "cell_type": "code",
   "execution_count": 35,
   "id": "31b43d1f",
   "metadata": {
    "execution": {
     "iopub.execute_input": "2024-03-24T13:47:19.624905Z",
     "iopub.status.busy": "2024-03-24T13:47:19.624487Z",
     "iopub.status.idle": "2024-03-24T13:47:19.629776Z",
     "shell.execute_reply": "2024-03-24T13:47:19.628444Z"
    },
    "papermill": {
     "duration": 0.034069,
     "end_time": "2024-03-24T13:47:19.632261",
     "exception": false,
     "start_time": "2024-03-24T13:47:19.598192",
     "status": "completed"
    },
    "tags": []
   },
   "outputs": [],
   "source": [
    "# mi_scores = make_mi_scores(X_train_encoded, y_train)\n",
    "# plot_mi_scores(mi_scores)"
   ]
  },
  {
   "cell_type": "code",
   "execution_count": 36,
   "id": "00f2ab19",
   "metadata": {
    "execution": {
     "iopub.execute_input": "2024-03-24T13:47:19.684020Z",
     "iopub.status.busy": "2024-03-24T13:47:19.683633Z",
     "iopub.status.idle": "2024-03-24T13:47:19.701413Z",
     "shell.execute_reply": "2024-03-24T13:47:19.700057Z"
    },
    "papermill": {
     "duration": 0.046586,
     "end_time": "2024-03-24T13:47:19.704054",
     "exception": false,
     "start_time": "2024-03-24T13:47:19.657468",
     "status": "completed"
    },
    "tags": []
   },
   "outputs": [],
   "source": [
    "X_full = pd.concat([X_train_encoded, y_train],axis = 1)"
   ]
  },
  {
   "cell_type": "code",
   "execution_count": 37,
   "id": "ef940434",
   "metadata": {
    "execution": {
     "iopub.execute_input": "2024-03-24T13:47:19.756295Z",
     "iopub.status.busy": "2024-03-24T13:47:19.755821Z",
     "iopub.status.idle": "2024-03-24T13:47:19.761582Z",
     "shell.execute_reply": "2024-03-24T13:47:19.760053Z"
    },
    "papermill": {
     "duration": 0.034646,
     "end_time": "2024-03-24T13:47:19.764233",
     "exception": false,
     "start_time": "2024-03-24T13:47:19.729587",
     "status": "completed"
    },
    "tags": []
   },
   "outputs": [],
   "source": [
    "# sns.catplot(x=\"Property_Area\", y=\"Habitability_score\", data=X_full, kind=\"boxen\");"
   ]
  },
  {
   "cell_type": "code",
   "execution_count": 38,
   "id": "9f70ac5c",
   "metadata": {
    "execution": {
     "iopub.execute_input": "2024-03-24T13:47:19.816290Z",
     "iopub.status.busy": "2024-03-24T13:47:19.815890Z",
     "iopub.status.idle": "2024-03-24T13:47:19.823284Z",
     "shell.execute_reply": "2024-03-24T13:47:19.822092Z"
    },
    "papermill": {
     "duration": 0.036591,
     "end_time": "2024-03-24T13:47:19.825990",
     "exception": false,
     "start_time": "2024-03-24T13:47:19.789399",
     "status": "completed"
    },
    "tags": []
   },
   "outputs": [
    {
     "data": {
      "text/plain": [
       "Index(['Property_Type', 'Property_Area', 'Number_of_Doors', 'Water_Supply',\n",
       "       'Traffic_Density_Score', 'Air_Quality_Index', 'Neighborhood_Review',\n",
       "       'Number_of_Windows', 'Power_Backup_No', 'Power_Backup_Yes',\n",
       "       'Furnishing', 'Frequency_of_Powercuts', 'Crime_Rate', 'Dust_and_Noise'],\n",
       "      dtype='object')"
      ]
     },
     "execution_count": 38,
     "metadata": {},
     "output_type": "execute_result"
    }
   ],
   "source": [
    "# X_train_encoded.drop(columns=['Number_of_Doors'],axis =1 , inplace = True)\n",
    "# X_valid_encoded.drop(columns=['Number_of_Doors'],axis =1 , inplace = True)\n",
    "# X_test_encoded.drop(columns=['Number_of_Doors'],axis =1 , inplace = True)\n",
    "columns = X_train_encoded.columns\n",
    "columns\n"
   ]
  },
  {
   "cell_type": "code",
   "execution_count": 39,
   "id": "217d59fb",
   "metadata": {
    "execution": {
     "iopub.execute_input": "2024-03-24T13:47:19.878048Z",
     "iopub.status.busy": "2024-03-24T13:47:19.877653Z",
     "iopub.status.idle": "2024-03-24T13:47:19.883029Z",
     "shell.execute_reply": "2024-03-24T13:47:19.881769Z"
    },
    "papermill": {
     "duration": 0.034777,
     "end_time": "2024-03-24T13:47:19.885574",
     "exception": false,
     "start_time": "2024-03-24T13:47:19.850797",
     "status": "completed"
    },
    "tags": []
   },
   "outputs": [],
   "source": [
    "# plt.figure(figsize=(8, 6))\n",
    "# X_train_encoded.boxplot(column=['Property_Area'], flierprops=dict(markerfacecolor='r', marker='s', label='Outliers'))\n",
    "# plt.title('Box Plot for X_train ')\n",
    "# plt.xlabel('Features')\n",
    "# plt.ylabel('Values')\n",
    "# plt.show()"
   ]
  },
  {
   "cell_type": "code",
   "execution_count": 40,
   "id": "dcc5a361",
   "metadata": {
    "execution": {
     "iopub.execute_input": "2024-03-24T13:47:19.938689Z",
     "iopub.status.busy": "2024-03-24T13:47:19.938303Z",
     "iopub.status.idle": "2024-03-24T13:47:20.220447Z",
     "shell.execute_reply": "2024-03-24T13:47:20.219425Z"
    },
    "papermill": {
     "duration": 0.312805,
     "end_time": "2024-03-24T13:47:20.223297",
     "exception": false,
     "start_time": "2024-03-24T13:47:19.910492",
     "status": "completed"
    },
    "tags": []
   },
   "outputs": [
    {
     "name": "stdout",
     "output_type": "stream",
     "text": [
      "Root Mean Squared Error (RMSE) on validation set: 6.19499138489397\n"
     ]
    }
   ],
   "source": [
    "predict_and_evaluate(model, X_train_encoded,y_train, X_valid_encoded, y_valid)"
   ]
  },
  {
   "cell_type": "code",
   "execution_count": null,
   "id": "cdd67f87",
   "metadata": {
    "papermill": {
     "duration": 0.025988,
     "end_time": "2024-03-24T13:47:20.275986",
     "exception": false,
     "start_time": "2024-03-24T13:47:20.249998",
     "status": "completed"
    },
    "tags": []
   },
   "outputs": [],
   "source": []
  },
  {
   "cell_type": "code",
   "execution_count": 41,
   "id": "e9cc6705",
   "metadata": {
    "execution": {
     "iopub.execute_input": "2024-03-24T13:47:20.327788Z",
     "iopub.status.busy": "2024-03-24T13:47:20.327399Z",
     "iopub.status.idle": "2024-03-24T13:47:20.333118Z",
     "shell.execute_reply": "2024-03-24T13:47:20.331908Z"
    },
    "papermill": {
     "duration": 0.034443,
     "end_time": "2024-03-24T13:47:20.335540",
     "exception": false,
     "start_time": "2024-03-24T13:47:20.301097",
     "status": "completed"
    },
    "tags": []
   },
   "outputs": [],
   "source": [
    "param_grid_catboost ={\n",
    "    'iterations': [750,1000],\n",
    "    'learning_rate': [0.03],\n",
    "    'depth': [6,7]\n",
    "}\n"
   ]
  },
  {
   "cell_type": "code",
   "execution_count": 42,
   "id": "33b06abb",
   "metadata": {
    "execution": {
     "iopub.execute_input": "2024-03-24T13:47:20.387317Z",
     "iopub.status.busy": "2024-03-24T13:47:20.386895Z",
     "iopub.status.idle": "2024-03-24T13:47:20.591404Z",
     "shell.execute_reply": "2024-03-24T13:47:20.590013Z"
    },
    "papermill": {
     "duration": 0.23396,
     "end_time": "2024-03-24T13:47:20.594523",
     "exception": false,
     "start_time": "2024-03-24T13:47:20.360563",
     "status": "completed"
    },
    "tags": []
   },
   "outputs": [],
   "source": [
    "from catboost import CatBoostRegressor\n",
    "model5 = CatBoostRegressor(verbose=False)\n",
    "# predict_and_evaluate(model5, X_train_encoded,y_train, X_valid_encoded, y_valid)\n",
    "# grid_search(model5, X_train_encoded,y_train,param_grid_catboost)"
   ]
  },
  {
   "cell_type": "code",
   "execution_count": 43,
   "id": "ca44efb8",
   "metadata": {
    "execution": {
     "iopub.execute_input": "2024-03-24T13:47:20.648024Z",
     "iopub.status.busy": "2024-03-24T13:47:20.647641Z",
     "iopub.status.idle": "2024-03-24T13:47:20.652772Z",
     "shell.execute_reply": "2024-03-24T13:47:20.651663Z"
    },
    "papermill": {
     "duration": 0.035238,
     "end_time": "2024-03-24T13:47:20.655227",
     "exception": false,
     "start_time": "2024-03-24T13:47:20.619989",
     "status": "completed"
    },
    "tags": []
   },
   "outputs": [],
   "source": [
    "model6 = CatBoostRegressor(verbose=False,depth =10, iterations= 960,learning_rate =0.045)\n",
    "# predict_and_evaluate(model6, X_train_encoded,y_train, X_valid_encoded, y_valid)"
   ]
  },
  {
   "cell_type": "code",
   "execution_count": 44,
   "id": "5a261723",
   "metadata": {
    "execution": {
     "iopub.execute_input": "2024-03-24T13:47:20.707773Z",
     "iopub.status.busy": "2024-03-24T13:47:20.706978Z",
     "iopub.status.idle": "2024-03-24T13:47:36.753223Z",
     "shell.execute_reply": "2024-03-24T13:47:36.752152Z"
    },
    "papermill": {
     "duration": 16.075531,
     "end_time": "2024-03-24T13:47:36.755833",
     "exception": false,
     "start_time": "2024-03-24T13:47:20.680302",
     "status": "completed"
    },
    "tags": []
   },
   "outputs": [],
   "source": [
    "model6.fit(X_train_encoded, y_train)\n",
    "y_test = model6.predict(X_test_encoded)\n",
    "y_test_df = pd.DataFrame(y_test, columns = ['Habitability_score'], index= X_test_encoded.index)"
   ]
  },
  {
   "cell_type": "code",
   "execution_count": 45,
   "id": "430db6fe",
   "metadata": {
    "execution": {
     "iopub.execute_input": "2024-03-24T13:47:36.807568Z",
     "iopub.status.busy": "2024-03-24T13:47:36.806752Z",
     "iopub.status.idle": "2024-03-24T13:47:36.811660Z",
     "shell.execute_reply": "2024-03-24T13:47:36.810518Z"
    },
    "papermill": {
     "duration": 0.03355,
     "end_time": "2024-03-24T13:47:36.814200",
     "exception": false,
     "start_time": "2024-03-24T13:47:36.780650",
     "status": "completed"
    },
    "tags": []
   },
   "outputs": [],
   "source": [
    "# default_learning_rate = model5.learning_rate_\n",
    "# default_depth = model5.depth_\n",
    "# default_iterations = model5.iterations_\n",
    "\n",
    "# print(\"Default Learning Rate:\", default_learning_rate)\n",
    "# print(\"Default Depth:\", default_depth)\n",
    "# print(\"Default Iterations:\", default_iterations)"
   ]
  },
  {
   "cell_type": "markdown",
   "id": "b734259a",
   "metadata": {
    "papermill": {
     "duration": 0.026064,
     "end_time": "2024-03-24T13:47:36.865569",
     "exception": false,
     "start_time": "2024-03-24T13:47:36.839505",
     "status": "completed"
    },
    "tags": []
   },
   "source": []
  },
  {
   "cell_type": "code",
   "execution_count": 46,
   "id": "871f033d",
   "metadata": {
    "execution": {
     "iopub.execute_input": "2024-03-24T13:47:36.918084Z",
     "iopub.status.busy": "2024-03-24T13:47:36.917645Z",
     "iopub.status.idle": "2024-03-24T13:47:36.929255Z",
     "shell.execute_reply": "2024-03-24T13:47:36.928237Z"
    },
    "papermill": {
     "duration": 0.040255,
     "end_time": "2024-03-24T13:47:36.931585",
     "exception": false,
     "start_time": "2024-03-24T13:47:36.891330",
     "status": "completed"
    },
    "tags": []
   },
   "outputs": [
    {
     "data": {
      "text/html": [
       "<div>\n",
       "<style scoped>\n",
       "    .dataframe tbody tr th:only-of-type {\n",
       "        vertical-align: middle;\n",
       "    }\n",
       "\n",
       "    .dataframe tbody tr th {\n",
       "        vertical-align: top;\n",
       "    }\n",
       "\n",
       "    .dataframe thead th {\n",
       "        text-align: right;\n",
       "    }\n",
       "</style>\n",
       "<table border=\"1\" class=\"dataframe\">\n",
       "  <thead>\n",
       "    <tr style=\"text-align: right;\">\n",
       "      <th></th>\n",
       "      <th>Habitability_score</th>\n",
       "    </tr>\n",
       "    <tr>\n",
       "      <th>Id</th>\n",
       "      <th></th>\n",
       "    </tr>\n",
       "  </thead>\n",
       "  <tbody>\n",
       "    <tr>\n",
       "      <th>0x6808</th>\n",
       "      <td>77.843723</td>\n",
       "    </tr>\n",
       "    <tr>\n",
       "      <th>0x6a98</th>\n",
       "      <td>73.935420</td>\n",
       "    </tr>\n",
       "    <tr>\n",
       "      <th>0xacc0</th>\n",
       "      <td>76.046385</td>\n",
       "    </tr>\n",
       "    <tr>\n",
       "      <th>0x8225</th>\n",
       "      <td>81.427204</td>\n",
       "    </tr>\n",
       "    <tr>\n",
       "      <th>0xaee8</th>\n",
       "      <td>73.752145</td>\n",
       "    </tr>\n",
       "  </tbody>\n",
       "</table>\n",
       "</div>"
      ],
      "text/plain": [
       "        Habitability_score\n",
       "Id                        \n",
       "0x6808           77.843723\n",
       "0x6a98           73.935420\n",
       "0xacc0           76.046385\n",
       "0x8225           81.427204\n",
       "0xaee8           73.752145"
      ]
     },
     "execution_count": 46,
     "metadata": {},
     "output_type": "execute_result"
    }
   ],
   "source": [
    "y_test_df.head()"
   ]
  },
  {
   "cell_type": "code",
   "execution_count": 47,
   "id": "91c3150d",
   "metadata": {
    "execution": {
     "iopub.execute_input": "2024-03-24T13:47:36.984446Z",
     "iopub.status.busy": "2024-03-24T13:47:36.984036Z",
     "iopub.status.idle": "2024-03-24T13:47:36.988495Z",
     "shell.execute_reply": "2024-03-24T13:47:36.987443Z"
    },
    "papermill": {
     "duration": 0.033785,
     "end_time": "2024-03-24T13:47:36.990679",
     "exception": false,
     "start_time": "2024-03-24T13:47:36.956894",
     "status": "completed"
    },
    "tags": []
   },
   "outputs": [],
   "source": [
    "# y_test_df.to_csv('predicted_values.csv', index=True)"
   ]
  },
  {
   "cell_type": "code",
   "execution_count": 48,
   "id": "5b11c746",
   "metadata": {
    "execution": {
     "iopub.execute_input": "2024-03-24T13:47:37.042771Z",
     "iopub.status.busy": "2024-03-24T13:47:37.042353Z",
     "iopub.status.idle": "2024-03-24T13:47:37.049633Z",
     "shell.execute_reply": "2024-03-24T13:47:37.048125Z"
    },
    "papermill": {
     "duration": 0.035957,
     "end_time": "2024-03-24T13:47:37.051943",
     "exception": false,
     "start_time": "2024-03-24T13:47:37.015986",
     "status": "completed"
    },
    "tags": []
   },
   "outputs": [
    {
     "name": "stdout",
     "output_type": "stream",
     "text": [
      "File '/kaggle/working/submission1.csv' does not exist.\n"
     ]
    }
   ],
   "source": [
    "import os\n",
    "\n",
    "# Specify the path to the file you want to delete\n",
    "file_path = '/kaggle/working/submission1.csv'\n",
    "\n",
    "# Check if the file exists\n",
    "if os.path.exists(file_path):\n",
    "    # Delete the file\n",
    "    os.remove(file_path)\n",
    "    print(f\"File '{file_path}' deleted successfully.\")\n",
    "else:\n",
    "    print(f\"File '{file_path}' does not exist.\")"
   ]
  },
  {
   "cell_type": "code",
   "execution_count": 49,
   "id": "a6b037f3",
   "metadata": {
    "execution": {
     "iopub.execute_input": "2024-03-24T13:47:37.104345Z",
     "iopub.status.busy": "2024-03-24T13:47:37.103910Z",
     "iopub.status.idle": "2024-03-24T13:47:37.108735Z",
     "shell.execute_reply": "2024-03-24T13:47:37.107710Z"
    },
    "papermill": {
     "duration": 0.034293,
     "end_time": "2024-03-24T13:47:37.111424",
     "exception": false,
     "start_time": "2024-03-24T13:47:37.077131",
     "status": "completed"
    },
    "tags": []
   },
   "outputs": [],
   "source": [
    "# current_filename = 'submission.csv'  # Replace 'old_filename.txt' with the current file name\n",
    "# new_filename = 'submission1.csv'      # Replace 'new_filename.txt' with the new file name\n",
    "\n",
    "# # Rename the file\n",
    "# os.rename(current_filename, new_filename)\n",
    "\n",
    "# # Print a message to confirm the renaming\n",
    "# print(f\"File '{current_filename}' has been renamed to '{new_filename}'.\")"
   ]
  },
  {
   "cell_type": "code",
   "execution_count": 50,
   "id": "20e3ef91",
   "metadata": {
    "execution": {
     "iopub.execute_input": "2024-03-24T13:47:37.167190Z",
     "iopub.status.busy": "2024-03-24T13:47:37.166752Z",
     "iopub.status.idle": "2024-03-24T13:47:37.199451Z",
     "shell.execute_reply": "2024-03-24T13:47:37.198255Z"
    },
    "papermill": {
     "duration": 0.064077,
     "end_time": "2024-03-24T13:47:37.202400",
     "exception": false,
     "start_time": "2024-03-24T13:47:37.138323",
     "status": "completed"
    },
    "tags": []
   },
   "outputs": [],
   "source": [
    "y_test_df.to_csv('submission.csv', index=True)"
   ]
  },
  {
   "cell_type": "code",
   "execution_count": null,
   "id": "d7017465",
   "metadata": {
    "papermill": {
     "duration": 0.025384,
     "end_time": "2024-03-24T13:47:37.253222",
     "exception": false,
     "start_time": "2024-03-24T13:47:37.227838",
     "status": "completed"
    },
    "tags": []
   },
   "outputs": [],
   "source": []
  }
 ],
 "metadata": {
  "kaggle": {
   "accelerator": "none",
   "dataSources": [
    {
     "databundleVersionId": 7790774,
     "sourceId": 71296,
     "sourceType": "competition"
    }
   ],
   "dockerImageVersionId": 30673,
   "isGpuEnabled": false,
   "isInternetEnabled": true,
   "language": "python",
   "sourceType": "notebook"
  },
  "kernelspec": {
   "display_name": "Python 3",
   "language": "python",
   "name": "python3"
  },
  "language_info": {
   "codemirror_mode": {
    "name": "ipython",
    "version": 3
   },
   "file_extension": ".py",
   "mimetype": "text/x-python",
   "name": "python",
   "nbconvert_exporter": "python",
   "pygments_lexer": "ipython3",
   "version": "3.10.13"
  },
  "papermill": {
   "default_parameters": {},
   "duration": 31.934598,
   "end_time": "2024-03-24T13:47:38.001650",
   "environment_variables": {},
   "exception": null,
   "input_path": "__notebook__.ipynb",
   "output_path": "__notebook__.ipynb",
   "parameters": {},
   "start_time": "2024-03-24T13:47:06.067052",
   "version": "2.5.0"
  }
 },
 "nbformat": 4,
 "nbformat_minor": 5
}
